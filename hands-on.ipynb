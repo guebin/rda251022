{
 "cells": [
  {
   "cell_type": "raw",
   "id": "7278ed67",
   "metadata": {},
   "source": [
    "---\n",
    "title: \"hands-on\"\n",
    "author: \"최규빈\"\n",
    "subtitle: \"\"\n",
    "institute: \"전북대학교 통계학과\"\n",
    "date: \"10/22/2025\"\n",
    "format:\n",
    "  html:\n",
    "    toc: true\n",
    "    toc-depth: 3\n",
    "    number-sections: false\n",
    "    code-fold: false\n",
    "    theme: cosmo\n",
    "---"
   ]
  },
  {
   "cell_type": "markdown",
   "id": "32e600be",
   "metadata": {},
   "source": [
    "## `1`. 코딩테스트"
   ]
  },
  {
   "cell_type": "markdown",
   "id": "a10d9061",
   "metadata": {},
   "source": [
    "`-` 과거: 개념들을 배우고, 활용을 잘하면 코딩을 잘하는 것이다.\n",
    "\n",
    "- 제 생각: 개념을 활용하여 코딩을 잘하는건 많은 연습과 센스가 필요했음. "
   ]
  },
  {
   "cell_type": "markdown",
   "id": "fd0ec2af",
   "metadata": {},
   "source": [
    "`개념1` -- 숫자의 저장 및 계산"
   ]
  },
  {
   "cell_type": "code",
   "execution_count": 1,
   "id": "cb88c62a",
   "metadata": {},
   "outputs": [
    {
     "data": {
      "text/plain": [
       "1"
      ]
     },
     "execution_count": null,
     "metadata": {},
     "output_type": "execute_result"
    }
   ],
   "source": [
    "a=1\n",
    "a"
   ]
  },
  {
   "cell_type": "code",
   "execution_count": 2,
   "id": "af26c3ff",
   "metadata": {},
   "outputs": [
    {
     "data": {
      "text/plain": [
       "2"
      ]
     },
     "execution_count": null,
     "metadata": {},
     "output_type": "execute_result"
    }
   ],
   "source": [
    "b=2\n",
    "b"
   ]
  },
  {
   "cell_type": "code",
   "execution_count": 3,
   "id": "5ce15798",
   "metadata": {},
   "outputs": [
    {
     "data": {
      "text/plain": [
       "3"
      ]
     },
     "execution_count": null,
     "metadata": {},
     "output_type": "execute_result"
    }
   ],
   "source": [
    "a+b"
   ]
  },
  {
   "cell_type": "markdown",
   "id": "a20991e9",
   "metadata": {},
   "source": [
    "`개념2` -- 문자의 저장 및 계산 "
   ]
  },
  {
   "cell_type": "code",
   "execution_count": 4,
   "id": "241a1c27",
   "metadata": {},
   "outputs": [],
   "source": [
    "a = '이재명'"
   ]
  },
  {
   "cell_type": "code",
   "execution_count": 5,
   "id": "940492bd",
   "metadata": {},
   "outputs": [],
   "source": [
    "b = '대통령'"
   ]
  },
  {
   "cell_type": "code",
   "execution_count": 6,
   "id": "9d86a576",
   "metadata": {},
   "outputs": [
    {
     "data": {
      "text/plain": [
       "'이재명대통령'"
      ]
     },
     "execution_count": null,
     "metadata": {},
     "output_type": "execute_result"
    }
   ],
   "source": [
    "a+b"
   ]
  },
  {
   "cell_type": "code",
   "execution_count": 7,
   "id": "40c998f6",
   "metadata": {},
   "outputs": [
    {
     "data": {
      "text/plain": [
       "'이재명이재명'"
      ]
     },
     "execution_count": null,
     "metadata": {},
     "output_type": "execute_result"
    }
   ],
   "source": [
    "a*2"
   ]
  },
  {
   "cell_type": "code",
   "execution_count": 8,
   "id": "2c0e891b",
   "metadata": {},
   "outputs": [
    {
     "data": {
      "text/plain": [
       "'대통령대통령'"
      ]
     },
     "execution_count": null,
     "metadata": {},
     "output_type": "execute_result"
    }
   ],
   "source": [
    "b*2"
   ]
  },
  {
   "cell_type": "code",
   "execution_count": 9,
   "id": "5009ac18",
   "metadata": {},
   "outputs": [
    {
     "data": {
      "text/plain": [
       "'이재명대통령이재명대통령'"
      ]
     },
     "execution_count": null,
     "metadata": {},
     "output_type": "execute_result"
    }
   ],
   "source": [
    "(a+b)*2"
   ]
  },
  {
   "cell_type": "markdown",
   "id": "fd837bb8",
   "metadata": {},
   "source": [
    "`개념3` -- 숫자의 문자화, 문자의 숫자화 (형태변환 )"
   ]
  },
  {
   "cell_type": "code",
   "execution_count": 10,
   "id": "5f57801f",
   "metadata": {},
   "outputs": [
    {
     "data": {
      "text/plain": [
       "2025"
      ]
     },
     "execution_count": null,
     "metadata": {},
     "output_type": "execute_result"
    }
   ],
   "source": [
    "a = 2025\n",
    "a"
   ]
  },
  {
   "cell_type": "code",
   "execution_count": 11,
   "id": "d63cee40",
   "metadata": {},
   "outputs": [
    {
     "data": {
      "text/plain": [
       "4050"
      ]
     },
     "execution_count": null,
     "metadata": {},
     "output_type": "execute_result"
    }
   ],
   "source": [
    "a*2"
   ]
  },
  {
   "cell_type": "code",
   "execution_count": 12,
   "id": "8d294f41",
   "metadata": {},
   "outputs": [
    {
     "data": {
      "text/plain": [
       "'2025'"
      ]
     },
     "execution_count": null,
     "metadata": {},
     "output_type": "execute_result"
    }
   ],
   "source": [
    "a = str(a)\n",
    "a # 문자같은데?"
   ]
  },
  {
   "cell_type": "code",
   "execution_count": 13,
   "id": "00bf491b",
   "metadata": {},
   "outputs": [
    {
     "data": {
      "text/plain": [
       "'20252025'"
      ]
     },
     "execution_count": null,
     "metadata": {},
     "output_type": "execute_result"
    }
   ],
   "source": [
    "a*2 # 문자"
   ]
  },
  {
   "cell_type": "markdown",
   "id": "16183d8d",
   "metadata": {},
   "source": [
    "`개념4` -- replace (저장된 타입이 문자일 경우 쓸 수 있는 특별한 기능)"
   ]
  },
  {
   "cell_type": "code",
   "execution_count": 14,
   "id": "c9ffbd98",
   "metadata": {},
   "outputs": [
    {
     "data": {
      "text/plain": [
       "'abc'"
      ]
     },
     "execution_count": null,
     "metadata": {},
     "output_type": "execute_result"
    }
   ],
   "source": [
    "s = 'abc'\n",
    "s"
   ]
  },
  {
   "cell_type": "code",
   "execution_count": 15,
   "id": "63736fa1",
   "metadata": {},
   "outputs": [
    {
     "data": {
      "text/plain": [
       "'aBc'"
      ]
     },
     "execution_count": null,
     "metadata": {},
     "output_type": "execute_result"
    }
   ],
   "source": [
    "s.replace('b','B')"
   ]
  },
  {
   "cell_type": "markdown",
   "id": "d548cdd1",
   "metadata": {},
   "source": [
    "`개념5` -- 리스트 = \"숫자, 문자를 여러개 남을 수 있는 그릇\""
   ]
  },
  {
   "cell_type": "code",
   "execution_count": 16,
   "id": "737c2b1d",
   "metadata": {},
   "outputs": [
    {
     "data": {
      "text/plain": [
       "[1, 2, 'a', 3]"
      ]
     },
     "execution_count": null,
     "metadata": {},
     "output_type": "execute_result"
    }
   ],
   "source": [
    "x = [1,2,'a',3]\n",
    "x"
   ]
  },
  {
   "cell_type": "code",
   "execution_count": 17,
   "id": "453e84aa",
   "metadata": {},
   "outputs": [
    {
     "data": {
      "text/plain": [
       "2"
      ]
     },
     "execution_count": null,
     "metadata": {},
     "output_type": "execute_result"
    }
   ],
   "source": [
    "x[0]*2"
   ]
  },
  {
   "cell_type": "code",
   "execution_count": 18,
   "id": "557dc1c8",
   "metadata": {},
   "outputs": [
    {
     "data": {
      "text/plain": [
       "4"
      ]
     },
     "execution_count": null,
     "metadata": {},
     "output_type": "execute_result"
    }
   ],
   "source": [
    "x[1]*2"
   ]
  },
  {
   "cell_type": "code",
   "execution_count": 19,
   "id": "8e2340af",
   "metadata": {},
   "outputs": [
    {
     "data": {
      "text/plain": [
       "'aa'"
      ]
     },
     "execution_count": null,
     "metadata": {},
     "output_type": "execute_result"
    }
   ],
   "source": [
    "x[2]*2"
   ]
  },
  {
   "cell_type": "code",
   "execution_count": 20,
   "id": "5ff03595",
   "metadata": {},
   "outputs": [
    {
     "data": {
      "text/plain": [
       "6"
      ]
     },
     "execution_count": null,
     "metadata": {},
     "output_type": "execute_result"
    }
   ],
   "source": [
    "x[3]*2"
   ]
  },
  {
   "cell_type": "markdown",
   "id": "4da3ce34",
   "metadata": {},
   "source": [
    "`개념6` -- 리스트의 원소 추가"
   ]
  },
  {
   "cell_type": "markdown",
   "id": "fb48b245",
   "metadata": {},
   "source": [
    "(예시1)"
   ]
  },
  {
   "cell_type": "code",
   "execution_count": 21,
   "id": "6ae8d82f",
   "metadata": {},
   "outputs": [
    {
     "data": {
      "text/plain": [
       "[1, 2, 'a', 3]"
      ]
     },
     "execution_count": null,
     "metadata": {},
     "output_type": "execute_result"
    }
   ],
   "source": [
    "x = [1,2,'a',3]\n",
    "x"
   ]
  },
  {
   "cell_type": "code",
   "execution_count": 22,
   "id": "50b7ff91",
   "metadata": {},
   "outputs": [],
   "source": [
    "x.append('b')"
   ]
  },
  {
   "cell_type": "code",
   "execution_count": 23,
   "id": "b942dcd0",
   "metadata": {},
   "outputs": [
    {
     "data": {
      "text/plain": [
       "[1, 2, 'a', 3, 'b']"
      ]
     },
     "execution_count": null,
     "metadata": {},
     "output_type": "execute_result"
    }
   ],
   "source": [
    "x"
   ]
  },
  {
   "cell_type": "markdown",
   "id": "a0c62938",
   "metadata": {},
   "source": [
    "(예시2)"
   ]
  },
  {
   "cell_type": "code",
   "execution_count": 24,
   "id": "82386cbe",
   "metadata": {},
   "outputs": [
    {
     "data": {
      "text/plain": [
       "[]"
      ]
     },
     "execution_count": null,
     "metadata": {},
     "output_type": "execute_result"
    }
   ],
   "source": [
    "x = [] \n",
    "x"
   ]
  },
  {
   "cell_type": "code",
   "execution_count": 25,
   "id": "eb022719",
   "metadata": {},
   "outputs": [
    {
     "data": {
      "text/plain": [
       "[1]"
      ]
     },
     "execution_count": null,
     "metadata": {},
     "output_type": "execute_result"
    }
   ],
   "source": [
    "x.append(1)\n",
    "x"
   ]
  },
  {
   "cell_type": "code",
   "execution_count": 26,
   "id": "e0373309",
   "metadata": {},
   "outputs": [
    {
     "data": {
      "text/plain": [
       "[1, 2]"
      ]
     },
     "execution_count": null,
     "metadata": {},
     "output_type": "execute_result"
    }
   ],
   "source": [
    "x.append(2)\n",
    "x"
   ]
  },
  {
   "cell_type": "markdown",
   "id": "7af9bf9f",
   "metadata": {},
   "source": [
    "(예시3)"
   ]
  },
  {
   "cell_type": "code",
   "execution_count": 27,
   "id": "af09449b",
   "metadata": {},
   "outputs": [
    {
     "data": {
      "text/plain": [
       "[]"
      ]
     },
     "execution_count": null,
     "metadata": {},
     "output_type": "execute_result"
    }
   ],
   "source": [
    "x=[]\n",
    "x"
   ]
  },
  {
   "cell_type": "markdown",
   "id": "3c2d4ac8",
   "metadata": {},
   "source": [
    "아래의 코드를 3번실행해보자. "
   ]
  },
  {
   "cell_type": "code",
   "execution_count": 28,
   "id": "168e29de",
   "metadata": {},
   "outputs": [],
   "source": [
    "x.append(1)\n",
    "x.append(2)"
   ]
  },
  {
   "cell_type": "markdown",
   "id": "bd288e56",
   "metadata": {},
   "source": [
    "x에는 뭐가 있을까?"
   ]
  },
  {
   "cell_type": "markdown",
   "id": "cbea3957",
   "metadata": {},
   "source": [
    "`개념7` -- for문 (리스트와 같은 iterable객체의 원소를 반복하여 호출하는 테크닉)"
   ]
  },
  {
   "cell_type": "markdown",
   "id": "96d102d9",
   "metadata": {},
   "source": [
    "(예시1)"
   ]
  },
  {
   "cell_type": "code",
   "execution_count": 29,
   "id": "0515f69f",
   "metadata": {},
   "outputs": [],
   "source": [
    "x = [1,2,'a',3]\n",
    "y = []"
   ]
  },
  {
   "cell_type": "code",
   "execution_count": 30,
   "id": "51228e24",
   "metadata": {},
   "outputs": [],
   "source": [
    "for xi in x: \n",
    "    y.append(xi)"
   ]
  },
  {
   "cell_type": "code",
   "execution_count": 31,
   "id": "af3096dd",
   "metadata": {},
   "outputs": [
    {
     "data": {
      "text/plain": [
       "[1, 2, 'a', 3]"
      ]
     },
     "execution_count": null,
     "metadata": {},
     "output_type": "execute_result"
    }
   ],
   "source": [
    "y"
   ]
  },
  {
   "cell_type": "markdown",
   "id": "6221efa8",
   "metadata": {},
   "source": [
    "(예시2)"
   ]
  },
  {
   "cell_type": "code",
   "execution_count": 32,
   "id": "c174ffca",
   "metadata": {},
   "outputs": [],
   "source": [
    "x = [1,2,'a',3]\n",
    "y = []"
   ]
  },
  {
   "cell_type": "code",
   "execution_count": 33,
   "id": "7b073523",
   "metadata": {},
   "outputs": [],
   "source": [
    "for xi in x: \n",
    "    y.append(xi*2)"
   ]
  },
  {
   "cell_type": "code",
   "execution_count": 34,
   "id": "7adc3021",
   "metadata": {},
   "outputs": [
    {
     "data": {
      "text/plain": [
       "[2, 4, 'aa', 6]"
      ]
     },
     "execution_count": null,
     "metadata": {},
     "output_type": "execute_result"
    }
   ],
   "source": [
    "y"
   ]
  },
  {
   "cell_type": "markdown",
   "id": "11b42a1f",
   "metadata": {},
   "source": [
    "`문제1` -- yyyy/mm/dd 타입을 yyyy-mm-dd 타입으로 변환하기 "
   ]
  },
  {
   "cell_type": "markdown",
   "id": "3d7003fc",
   "metadata": {},
   "source": [
    "아래와 같은 리스트가 있다. "
   ]
  },
  {
   "cell_type": "code",
   "execution_count": 35,
   "id": "e7f948d2",
   "metadata": {},
   "outputs": [
    {
     "data": {
      "text/plain": [
       "['2022/09/21',\n",
       " '2022/10/30',\n",
       " '2022/12/25',\n",
       " '2023/01/01',\n",
       " '2023/01/31',\n",
       " '2023/03/20']"
      ]
     },
     "execution_count": null,
     "metadata": {},
     "output_type": "execute_result"
    }
   ],
   "source": [
    "year = ['2022/09/21','2022/10/30','2022/12/25','2023/01/01','2023/01/31','2023/03/20']\n",
    "year"
   ]
  },
  {
   "cell_type": "markdown",
   "id": "d532bdc5",
   "metadata": {},
   "source": [
    "날짜를 아래와 같은 형식으로 바꾸는 코드를 제시하라. "
   ]
  },
  {
   "cell_type": "code",
   "execution_count": 36,
   "id": "35b5015d",
   "metadata": {},
   "outputs": [
    {
     "data": {
      "text/plain": [
       "['2022-09-21',\n",
       " '2022-10-30',\n",
       " '2022-12-25',\n",
       " '2023-01-01',\n",
       " '2023-01-31',\n",
       " '2023-03-20']"
      ]
     },
     "execution_count": null,
     "metadata": {},
     "output_type": "execute_result"
    }
   ],
   "source": [
    "['2022-09-21','2022-10-30','2022-12-25','2023-01-01','2023-01-31','2023-03-20']"
   ]
  },
  {
   "cell_type": "markdown",
   "id": "642a8904",
   "metadata": {},
   "source": [
    "(풀이) -- 해보세요"
   ]
  },
  {
   "cell_type": "markdown",
   "id": "e0d7f58e",
   "metadata": {},
   "source": [
    "`개념8` -- 문자열들로 이루어진 리스트의 원소를 이어주는 테크닉 (join)"
   ]
  },
  {
   "cell_type": "code",
   "execution_count": 37,
   "id": "6e1ddcb1",
   "metadata": {},
   "outputs": [
    {
     "data": {
      "text/plain": [
       "['2022', '01', '31']"
      ]
     },
     "execution_count": null,
     "metadata": {},
     "output_type": "execute_result"
    }
   ],
   "source": [
    "x = ['2022','01','31']\n",
    "x"
   ]
  },
  {
   "cell_type": "code",
   "execution_count": 38,
   "id": "9b009918",
   "metadata": {},
   "outputs": [
    {
     "data": {
      "text/plain": [
       "'2022-01-31'"
      ]
     },
     "execution_count": null,
     "metadata": {},
     "output_type": "execute_result"
    }
   ],
   "source": [
    "x[0]+'-'+x[1]+'-'+x[2]"
   ]
  },
  {
   "cell_type": "code",
   "execution_count": 39,
   "id": "195509d5",
   "metadata": {},
   "outputs": [
    {
     "data": {
      "text/plain": [
       "'2022-01-31'"
      ]
     },
     "execution_count": null,
     "metadata": {},
     "output_type": "execute_result"
    }
   ],
   "source": [
    "'-'.join(x) # '-'를 이용하여 x의 각 원소를 이어라"
   ]
  },
  {
   "cell_type": "markdown",
   "id": "a215cbf8",
   "metadata": {},
   "source": [
    "`개념9` -- 문자열을 특정기호를 기준으로 분리하여 리스트로 만들기"
   ]
  },
  {
   "cell_type": "markdown",
   "id": "94ab5cc0",
   "metadata": {},
   "source": [
    "(예시1)"
   ]
  },
  {
   "cell_type": "code",
   "execution_count": 40,
   "id": "28cc04ca",
   "metadata": {},
   "outputs": [
    {
     "data": {
      "text/plain": [
       "'2022-01-31'"
      ]
     },
     "execution_count": null,
     "metadata": {},
     "output_type": "execute_result"
    }
   ],
   "source": [
    "y = '2022-01-31'\n",
    "y"
   ]
  },
  {
   "cell_type": "code",
   "execution_count": 41,
   "id": "3c2c63d9",
   "metadata": {},
   "outputs": [
    {
     "data": {
      "text/plain": [
       "['2022', '01', '31']"
      ]
     },
     "execution_count": null,
     "metadata": {},
     "output_type": "execute_result"
    }
   ],
   "source": [
    "y.split('-')"
   ]
  },
  {
   "cell_type": "markdown",
   "id": "27edff16",
   "metadata": {},
   "source": [
    "(예시2)"
   ]
  },
  {
   "cell_type": "code",
   "execution_count": 42,
   "id": "0fc17fc0",
   "metadata": {},
   "outputs": [
    {
     "data": {
      "text/plain": [
       "'2022-01-31'"
      ]
     },
     "execution_count": null,
     "metadata": {},
     "output_type": "execute_result"
    }
   ],
   "source": [
    "y"
   ]
  },
  {
   "cell_type": "code",
   "execution_count": 43,
   "id": "41ec2a07",
   "metadata": {},
   "outputs": [
    {
     "data": {
      "text/plain": [
       "['2022', '01', '31']"
      ]
     },
     "execution_count": null,
     "metadata": {},
     "output_type": "execute_result"
    }
   ],
   "source": [
    "z = y.split('-')\n",
    "z"
   ]
  },
  {
   "cell_type": "code",
   "execution_count": 44,
   "id": "48aab68e",
   "metadata": {},
   "outputs": [
    {
     "data": {
      "text/plain": [
       "'2022-01-31'"
      ]
     },
     "execution_count": null,
     "metadata": {},
     "output_type": "execute_result"
    }
   ],
   "source": [
    "'-'.join(z)"
   ]
  },
  {
   "cell_type": "markdown",
   "id": "784786ab",
   "metadata": {},
   "source": [
    "`문제2` -- 기차만들기"
   ]
  },
  {
   "cell_type": "markdown",
   "id": "b85a3e01",
   "metadata": {},
   "source": [
    "아래의 특수문자를 이용하여 "
   ]
  },
  {
   "cell_type": "code",
   "execution_count": 45,
   "id": "6272960c",
   "metadata": {},
   "outputs": [
    {
     "data": {
      "text/plain": [
       "'■'"
      ]
     },
     "execution_count": null,
     "metadata": {},
     "output_type": "execute_result"
    }
   ],
   "source": [
    "b = '■'\n",
    "b"
   ]
  },
  {
   "cell_type": "markdown",
   "id": "4531b52c",
   "metadata": {},
   "source": [
    "다음과 같은 기차를 만들어보자. "
   ]
  },
  {
   "cell_type": "code",
   "execution_count": 46,
   "id": "d58eed62",
   "metadata": {},
   "outputs": [
    {
     "data": {
      "text/plain": [
       "'■-■-■-■-■---■-■-■-■-■---■-■-■-■-■'"
      ]
     },
     "execution_count": null,
     "metadata": {},
     "output_type": "execute_result"
    }
   ],
   "source": [
    "'■-■-■-■-■---■-■-■-■-■---■-■-■-■-■'"
   ]
  },
  {
   "cell_type": "markdown",
   "id": "ac4673c7",
   "metadata": {},
   "source": [
    "(풀이)"
   ]
  },
  {
   "cell_type": "markdown",
   "id": "c2b2c652",
   "metadata": {},
   "source": [
    "`개념10` -- 리스트안의 리스트 (원소로 리스트를 가지는 리스트)"
   ]
  },
  {
   "cell_type": "code",
   "execution_count": 47,
   "id": "4477e0fe",
   "metadata": {},
   "outputs": [],
   "source": [
    "x = [1,2]\n",
    "y = [3,4,5]\n",
    "lst = [x,y]"
   ]
  },
  {
   "cell_type": "code",
   "execution_count": 48,
   "id": "205d11da",
   "metadata": {},
   "outputs": [
    {
     "data": {
      "text/plain": [
       "[1, 2]"
      ]
     },
     "execution_count": null,
     "metadata": {},
     "output_type": "execute_result"
    }
   ],
   "source": [
    "lst[0]"
   ]
  },
  {
   "cell_type": "code",
   "execution_count": 49,
   "id": "a945598f",
   "metadata": {},
   "outputs": [
    {
     "data": {
      "text/plain": [
       "1"
      ]
     },
     "execution_count": null,
     "metadata": {},
     "output_type": "execute_result"
    }
   ],
   "source": [
    "lst[0][0]"
   ]
  },
  {
   "cell_type": "code",
   "execution_count": 50,
   "id": "1a1993fd",
   "metadata": {},
   "outputs": [
    {
     "data": {
      "text/plain": [
       "2"
      ]
     },
     "execution_count": null,
     "metadata": {},
     "output_type": "execute_result"
    }
   ],
   "source": [
    "lst[0][1]"
   ]
  },
  {
   "cell_type": "code",
   "execution_count": 51,
   "id": "6c493bdf",
   "metadata": {},
   "outputs": [
    {
     "data": {
      "text/plain": [
       "[3, 4, 5]"
      ]
     },
     "execution_count": null,
     "metadata": {},
     "output_type": "execute_result"
    }
   ],
   "source": [
    "lst[1]"
   ]
  },
  {
   "cell_type": "code",
   "execution_count": 52,
   "id": "2278b9f2",
   "metadata": {},
   "outputs": [
    {
     "data": {
      "text/plain": [
       "3"
      ]
     },
     "execution_count": null,
     "metadata": {},
     "output_type": "execute_result"
    }
   ],
   "source": [
    "lst[1][0]"
   ]
  },
  {
   "cell_type": "code",
   "execution_count": 53,
   "id": "fc6ffbc1",
   "metadata": {},
   "outputs": [
    {
     "data": {
      "text/plain": [
       "4"
      ]
     },
     "execution_count": null,
     "metadata": {},
     "output_type": "execute_result"
    }
   ],
   "source": [
    "lst[1][1]"
   ]
  },
  {
   "cell_type": "code",
   "execution_count": 54,
   "id": "9a0abb3e",
   "metadata": {},
   "outputs": [
    {
     "data": {
      "text/plain": [
       "5"
      ]
     },
     "execution_count": null,
     "metadata": {},
     "output_type": "execute_result"
    }
   ],
   "source": [
    "lst[1][2]"
   ]
  },
  {
   "cell_type": "markdown",
   "id": "2d118ade",
   "metadata": {},
   "source": [
    "`개념11` -- 함수"
   ]
  },
  {
   "cell_type": "code",
   "execution_count": 55,
   "id": "45bfae32",
   "metadata": {},
   "outputs": [],
   "source": [
    "def f(x):\n",
    "    y = x*3\n",
    "    return y "
   ]
  },
  {
   "cell_type": "code",
   "execution_count": 56,
   "id": "dde0b7a9",
   "metadata": {},
   "outputs": [
    {
     "data": {
      "text/plain": [
       "3"
      ]
     },
     "execution_count": null,
     "metadata": {},
     "output_type": "execute_result"
    }
   ],
   "source": [
    "f(1)"
   ]
  },
  {
   "cell_type": "code",
   "execution_count": 57,
   "id": "b92d7ed0",
   "metadata": {},
   "outputs": [
    {
     "data": {
      "text/plain": [
       "'aaa'"
      ]
     },
     "execution_count": null,
     "metadata": {},
     "output_type": "execute_result"
    }
   ],
   "source": [
    "f('a')"
   ]
  },
  {
   "cell_type": "markdown",
   "id": "43f3d5d2",
   "metadata": {},
   "source": [
    "`문제3` -- 2021 카카오 채용연계형 인턴쉽 기출문제"
   ]
  },
  {
   "cell_type": "markdown",
   "id": "94c5d95d",
   "metadata": {},
   "source": [
    "> 출처: <https://school.programmers.co.kr/learn/courses/30/lessons/81301?language=ruby>"
   ]
  },
  {
   "cell_type": "markdown",
   "id": "1b267f6e",
   "metadata": {},
   "source": [
    "![](https://grepp-programmers.s3.ap-northeast-2.amazonaws.com/files/production/d31cb063-4025-4412-8cbc-6ac6909cf93e/img1.png)"
   ]
  },
  {
   "cell_type": "markdown",
   "id": "6625d7bb",
   "metadata": {},
   "source": [
    "네오와 프로도가 숫자놀이를 하고 있습니다. 네오가 프로도에게 숫자를 건넬때 일부 자릿수를 영단어로 바꾼 카드를 건네주면 프로도는 원래 숫자를 찾는게임입니다. 다음은 숫자의 일부 자릿수를 영단어로 바꾸는 예시입니다.\n",
    "\n",
    "```\n",
    "1478 --> \"one4seveneight\"\n",
    "234567 --> \"23four5six7\"\n",
    "10203 --> \"1zerotwozero3\"\n",
    "```\n",
    "\n",
    "이렇게 숫자의 일부 자릿수가 영단어로 바뀌어졌거나, 혹은 바뀌지 않고 그대로인 문자열 s가 매개변수로 주어집니다. s가 의미하는 원래 숫자를 return 하도록 `solution` 함수를 완성해주세요.\n",
    "\n",
    "참고로 각 숫자에 대응되는 영단어는 다음 표와 같습니다.\n",
    "\n",
    "| 숫자 | 영단어 |\n",
    "|:----:|:------:|\n",
    "|  0   |  zero  |\n",
    "|  1   |  one   |\n",
    "|  2   |  two   |\n",
    "|  3   | three  |\n",
    "|  4   |  four  |\n",
    "|  5   |  five  |\n",
    "|  6   |  six   |\n",
    "|  7   | seven  |\n",
    "|  8   | eight  |\n",
    "|  9   |  nine  |\n",
    "\n",
    "`-` 제한사항\n",
    "\n",
    "-   1 ≤ s의 길이 ≤ 50\n",
    "-   s가 “zero” 또는 “0”으로 시작하는 경우는 주어지지 않습니다.\n",
    "-   return 값이 1 이상 2,000,000,000 이하의 정수가 되는 올바른 입력만 s로 주어집니다.\n",
    "\n",
    "`-` 입출력 예\n",
    "\n",
    "|         s          | result |\n",
    "|:------------------:|:------:|\n",
    "|  \"one4seveneight\"  |  1478  |\n",
    "|   \"23four5six7\"    | 234567 |\n",
    "| \"2three45sixseven\" | 234567 |\n",
    "|       \"123\"        |  123   |\n",
    "\n",
    "`-` 입출력 예 설명\n",
    "\n",
    "-   입출력 예 #1 – 문제 예시와 같습니다.\n",
    "-   입출력 예 #2 – 문제 예시와 같습니다.\n",
    "-   입출력 예 #3 – “three”는 3, “six”는 6, “seven”은 7에 대응되기 때문에\n",
    "    정답은 입출력 예 #2와 같은 234567이 됩니다. 입출력 예 #2와 #3과 같이\n",
    "    같은 정답을 가리키는 문자열이 여러 가지가 나올 수 있습니다.\n",
    "-   입출력 예 #4 – s에는 영단어로 바뀐 부분이 없습니다.\n"
   ]
  },
  {
   "cell_type": "markdown",
   "id": "2db18f36",
   "metadata": {},
   "source": [
    "\n",
    "(풀이)"
   ]
  },
  {
   "cell_type": "markdown",
   "id": "7e51dc84",
   "metadata": {},
   "source": [
    "**hint** 아래의 리스트를 활용해보세요 "
   ]
  },
  {
   "cell_type": "code",
   "execution_count": 58,
   "id": "203ba723",
   "metadata": {},
   "outputs": [
    {
     "data": {
      "text/plain": [
       "[['zero', '0'],\n",
       " ['one', '1'],\n",
       " ['two', '2'],\n",
       " ['three', '3'],\n",
       " ['four', '4'],\n",
       " ['five', '5'],\n",
       " ['six', '6'],\n",
       " ['seven', '7'],\n",
       " ['eight', '8'],\n",
       " ['nine', '9']]"
      ]
     },
     "execution_count": null,
     "metadata": {},
     "output_type": "execute_result"
    }
   ],
   "source": [
    "x = [\n",
    "    ['zero', '0'],\n",
    "    ['one', '1'],\n",
    "    ['two', '2'],\n",
    "    ['three', '3'],\n",
    "    ['four', '4'],\n",
    "    ['five', '5'],\n",
    "    ['six', '6'],\n",
    "    ['seven', '7'],\n",
    "    ['eight', '8'],\n",
    "    ['nine', '9']\n",
    "]\n",
    "x"
   ]
  },
  {
   "cell_type": "markdown",
   "id": "5b07b8f5",
   "metadata": {},
   "source": [
    "---"
   ]
  },
  {
   "cell_type": "markdown",
   "id": "245596c4",
   "metadata": {},
   "source": [
    "## `2`. 코딩테스트의 위기"
   ]
  },
  {
   "cell_type": "markdown",
   "id": "0b5a8af4",
   "metadata": {},
   "source": [
    "`실습1` -- ChatGPT를 켜고 \"2021 카카오 채용연계형 인턴쉽 기출문제\"를 풀어달라고 부탁해보자. "
   ]
  },
  {
   "cell_type": "markdown",
   "id": "004a4ac3",
   "metadata": {},
   "source": [
    "`생각해볼점1` -- 아래의 유튜브를 시청하고 (5:12 - 6:28 까지만 보면 됩니당) 본인의 생각을 정리해보자. "
   ]
  },
  {
   "cell_type": "markdown",
   "id": "364083c2",
   "metadata": {},
   "source": [
    "<https://www.youtube.com/watch?v=VpOrYvq7ruk&t=434s>"
   ]
  },
  {
   "cell_type": "markdown",
   "id": "92c3d09a",
   "metadata": {},
   "source": [
    "- 코딩테스트가 사라질까? (수능도 사라진다고 하는판에..)\n",
    "- 그럼 향후에는 어떠한 사람이 인재일까? 프로그래밍을 공부하는건 혹시 주산을 공부하는 것과 같은 일인가? "
   ]
  },
  {
   "cell_type": "markdown",
   "id": "50570bbe",
   "metadata": {},
   "source": [
    "`생각해볼점2` -- 반발\n",
    "\n",
    "- <https://brunch.co.kr/@23why/206> -- 공부는 헛되지 않음, 프롬프트 작성 + 결과를 검토할 능력을 얻음\n",
    "- <https://asset200.tistory.com/4> -- 오래된 정보(11), 환각(7)"
   ]
  },
  {
   "cell_type": "markdown",
   "id": "34201aad",
   "metadata": {},
   "source": [
    "`실습2` -- 세종대왕의 맥북프로 던짐 사건을 재현해보자. \n",
    "\n",
    "- 맥북프로 던짐 사건 -- [나무위키](https://namu.wiki/w/%EC%84%B8%EC%A2%85%EB%8C%80%EC%99%95%20%EB%A7%A5%EB%B6%81%ED%94%84%EB%A1%9C%20%EB%8D%98%EC%A7%90%20%EC%82%AC%EA%B1%B4?uuid=8f18b777-9009-4e52-a170-755574a38a1f)\n",
    "- 기세등등 (인공지능 별것 아니잖아?) <https://www.chosun.com/national/weekend/2023/03/04/HR457QM36JFTXDUVAMMNG23MHQ/>"
   ]
  },
  {
   "cell_type": "markdown",
   "id": "b6330fd1",
   "metadata": {},
   "source": [
    "`생각해볼점3` -- GPT가 풀지 못하는 문제에 집중해야 할까?\n",
    "\n",
    "- 인간은 GPT가 여전히 해결하지 못하는 문제를 찾아야 할까?\n",
    "- 아니라면 GPT를 활용하는 방법을 알아야 할까?"
   ]
  },
  {
   "cell_type": "markdown",
   "id": "ee951e9f",
   "metadata": {},
   "source": [
    "`제 생각` -- 활용해야 합니다. "
   ]
  },
  {
   "cell_type": "markdown",
   "id": "1e447729",
   "metadata": {},
   "source": [
    "(옛날상식)"
   ]
  },
  {
   "attachments": {
    "image.png": {
     "image/png": "[encoded data removed]"
    }
   },
   "cell_type": "markdown",
   "id": "513e5281",
   "metadata": {},
   "source": [
    "![-](attachment:image.png)\n",
    "\n",
    "*인공지능시대의 유망직종과 쇠퇴직종 <출처: 인공지능 기술 발전이 가져올 미래 사회 변화 (2015)>*"
   ]
  },
  {
   "cell_type": "markdown",
   "id": "28017121",
   "metadata": {},
   "source": [
    "(상식의무너짐)"
   ]
  },
  {
   "cell_type": "markdown",
   "id": "1f48e38b",
   "metadata": {},
   "source": [
    "<http://www.aifnlife.co.kr/news/articleView.html?idxno=13100>"
   ]
  },
  {
   "cell_type": "markdown",
   "id": "f0fe7ace",
   "metadata": {},
   "source": [
    "![-](https://cdn.aifnlife.co.kr/news/photo/202209/13100_12469_3459.jpeg)"
   ]
  },
  {
   "cell_type": "markdown",
   "id": "98f8f0e8",
   "metadata": {},
   "source": [
    "`복습` -- AI시대에 LLM모형을 활용하는 올바른 프로그래머의 두 가지 선택\n",
    "\n",
    "- 왼쪽길: AI에만 너무 의존할 수 없다. 기본적인 코딩교육은 필요하다는 입장.\n",
    "- 오른쪽길: 순수하게 AI에만 의존해도 무방하다. (바이브코딩)\n",
    "\n",
    "> 왼쪽길과 오른쪽길의 공통점: 최근 LLM 기술의 동향을 파악하는 것이 매우 중요"
   ]
  },
  {
   "cell_type": "markdown",
   "id": "657ab66f",
   "metadata": {},
   "source": [
    "---"
   ]
  },
  {
   "cell_type": "markdown",
   "id": "a8984485",
   "metadata": {},
   "source": [
    "## `3`. Perplexity를 무시할 수 없는 이유 (RAG)"
   ]
  },
  {
   "cell_type": "markdown",
   "id": "f62dad61",
   "metadata": {},
   "source": [
    "`실습1` -- Perplexity를 켜고 \"세종대왕의 맥북프로 던짐 사건\"에 대하여 물어보자.  "
   ]
  },
  {
   "cell_type": "markdown",
   "id": "a3b6a238",
   "metadata": {},
   "source": [
    "`실습2` -- Perplexity를 켜고 \"최규빈 교수 연구실 전화번호 좀 알려줘\" 를 질문하자, 동일한 질문을 ChatGPT에게 해보자."
   ]
  },
  {
   "cell_type": "markdown",
   "id": "902fc081",
   "metadata": {},
   "source": [
    "`실습3` -- Perplexity를 켜고 \"최규빈 교수가 R수업을 한 적 있는지 물어보자\" 를 질문하자, 동일한 질문을 ChatGPT에게 해보자."
   ]
  },
  {
   "cell_type": "markdown",
   "id": "8fa562ae",
   "metadata": {},
   "source": [
    "`실습4` -- 구글AI모드를 켜고 실습해보자. "
   ]
  },
  {
   "cell_type": "markdown",
   "id": "f78b0aba",
   "metadata": {},
   "source": [
    "## `4`. 틈새시장을 공략한 Cursor (IDE통합)"
   ]
  },
  {
   "cell_type": "markdown",
   "id": "64a1a028",
   "metadata": {},
   "source": [
    "아래의 코드가 있다. "
   ]
  },
  {
   "cell_type": "code",
   "execution_count": 59,
   "id": "c2f99441",
   "metadata": {},
   "outputs": [
    {
     "data": {
      "text/plain": [
       "[<matplotlib.lines.Line2D at 0x1115e3770>]"
      ]
     },
     "execution_count": null,
     "metadata": {},
     "output_type": "execute_result"
    },
    {
     "data": {
      "image/png": "[encoded data removed]",
      "text/plain": [
       "<Figure size 640x480 with 1 Axes>"
      ]
     },
     "metadata": {},
     "output_type": "display_data"
    }
   ],
   "source": [
    "import matplotlib.pyplot as plt\n",
    "x = [1,2,3,4]\n",
    "y = [2,5,-3,4]\n",
    "plt.plot(x,y)"
   ]
  },
  {
   "cell_type": "markdown",
   "id": "620a2058",
   "metadata": {},
   "source": [
    "그림의 제목을 \"Figure: Line Plot\" 이라고 붙이고 싶어서 아래의 코드를 실행했다. "
   ]
  },
  {
   "cell_type": "code",
   "execution_count": 64,
   "id": "246343bf",
   "metadata": {},
   "outputs": [
    {
     "ename": "AttributeError",
     "evalue": "Line2D.set() got an unexpected keyword argument 'title'",
     "output_type": "error",
     "traceback": [
      "\u001b[0;31m---------------------------------------------------------------------------\u001b[0m\n",
      "\u001b[0;31mAttributeError\u001b[0m                            Traceback (most recent call last)\n",
      "Cell \u001b[0;32mIn[64], line 1\u001b[0m\n",
      "\u001b[0;32m----> 1\u001b[0m \u001b[43mplt\u001b[49m\u001b[38;5;241;43m.\u001b[39;49m\u001b[43mplot\u001b[49m\u001b[43m(\u001b[49m\u001b[43mx\u001b[49m\u001b[43m,\u001b[49m\u001b[43my\u001b[49m\u001b[43m,\u001b[49m\u001b[43mtitle\u001b[49m\u001b[38;5;241;43m=\u001b[39;49m\u001b[38;5;124;43m\"\u001b[39;49m\u001b[38;5;124;43mFigure: Line Plot\u001b[39;49m\u001b[38;5;124;43m\"\u001b[39;49m\u001b[43m)\u001b[49m\n",
      "\n",
      "File \u001b[0;32m~/Library/CloudStorage/Dropbox/07-sld/2025-09-07-ChatGPT와파이썬/.venv/lib/python3.14/site-packages/matplotlib/pyplot.py:3838\u001b[0m, in \u001b[0;36mplot\u001b[0;34m(scalex, scaley, data, *args, **kwargs)\u001b[0m\n",
      "\u001b[1;32m   3830\u001b[0m \u001b[38;5;129m@_copy_docstring_and_deprecators\u001b[39m(Axes\u001b[38;5;241m.\u001b[39mplot)\n",
      "\u001b[1;32m   3831\u001b[0m \u001b[38;5;28;01mdef\u001b[39;00m\u001b[38;5;250m \u001b[39m\u001b[38;5;21mplot\u001b[39m(\n",
      "\u001b[1;32m   3832\u001b[0m     \u001b[38;5;241m*\u001b[39margs: \u001b[38;5;28mfloat\u001b[39m \u001b[38;5;241m|\u001b[39m ArrayLike \u001b[38;5;241m|\u001b[39m \u001b[38;5;28mstr\u001b[39m,\n",
      "\u001b[0;32m   (...)\u001b[0m\n",
      "\u001b[1;32m   3836\u001b[0m     \u001b[38;5;241m*\u001b[39m\u001b[38;5;241m*\u001b[39mkwargs,\n",
      "\u001b[1;32m   3837\u001b[0m ) \u001b[38;5;241m-\u001b[39m\u001b[38;5;241m>\u001b[39m \u001b[38;5;28mlist\u001b[39m[Line2D]:\n",
      "\u001b[0;32m-> 3838\u001b[0m     \u001b[38;5;28;01mreturn\u001b[39;00m \u001b[43mgca\u001b[49m\u001b[43m(\u001b[49m\u001b[43m)\u001b[49m\u001b[38;5;241;43m.\u001b[39;49m\u001b[43mplot\u001b[49m\u001b[43m(\u001b[49m\n",
      "\u001b[1;32m   3839\u001b[0m \u001b[43m        \u001b[49m\u001b[38;5;241;43m*\u001b[39;49m\u001b[43margs\u001b[49m\u001b[43m,\u001b[49m\n",
      "\u001b[1;32m   3840\u001b[0m \u001b[43m        \u001b[49m\u001b[43mscalex\u001b[49m\u001b[38;5;241;43m=\u001b[39;49m\u001b[43mscalex\u001b[49m\u001b[43m,\u001b[49m\n",
      "\u001b[1;32m   3841\u001b[0m \u001b[43m        \u001b[49m\u001b[43mscaley\u001b[49m\u001b[38;5;241;43m=\u001b[39;49m\u001b[43mscaley\u001b[49m\u001b[43m,\u001b[49m\n",
      "\u001b[1;32m   3842\u001b[0m \u001b[43m        \u001b[49m\u001b[38;5;241;43m*\u001b[39;49m\u001b[38;5;241;43m*\u001b[39;49m\u001b[43m(\u001b[49m\u001b[43m{\u001b[49m\u001b[38;5;124;43m\"\u001b[39;49m\u001b[38;5;124;43mdata\u001b[39;49m\u001b[38;5;124;43m\"\u001b[39;49m\u001b[43m:\u001b[49m\u001b[43m \u001b[49m\u001b[43mdata\u001b[49m\u001b[43m}\u001b[49m\u001b[43m \u001b[49m\u001b[38;5;28;43;01mif\u001b[39;49;00m\u001b[43m \u001b[49m\u001b[43mdata\u001b[49m\u001b[43m \u001b[49m\u001b[38;5;129;43;01mis\u001b[39;49;00m\u001b[43m \u001b[49m\u001b[38;5;129;43;01mnot\u001b[39;49;00m\u001b[43m \u001b[49m\u001b[38;5;28;43;01mNone\u001b[39;49;00m\u001b[43m \u001b[49m\u001b[38;5;28;43;01melse\u001b[39;49;00m\u001b[43m \u001b[49m\u001b[43m{\u001b[49m\u001b[43m}\u001b[49m\u001b[43m)\u001b[49m\u001b[43m,\u001b[49m\n",
      "\u001b[1;32m   3843\u001b[0m \u001b[43m        \u001b[49m\u001b[38;5;241;43m*\u001b[39;49m\u001b[38;5;241;43m*\u001b[39;49m\u001b[43mkwargs\u001b[49m\u001b[43m,\u001b[49m\n",
      "\u001b[1;32m   3844\u001b[0m \u001b[43m    \u001b[49m\u001b[43m)\u001b[49m\n",
      "\n",
      "File \u001b[0;32m~/Library/CloudStorage/Dropbox/07-sld/2025-09-07-ChatGPT와파이썬/.venv/lib/python3.14/site-packages/matplotlib/axes/_axes.py:1777\u001b[0m, in \u001b[0;36mAxes.plot\u001b[0;34m(self, scalex, scaley, data, *args, **kwargs)\u001b[0m\n",
      "\u001b[1;32m   1534\u001b[0m \u001b[38;5;250m\u001b[39m\u001b[38;5;124;03m\"\"\"\u001b[39;00m\n",
      "\u001b[1;32m   1535\u001b[0m \u001b[38;5;124;03mPlot y versus x as lines and/or markers.\u001b[39;00m\n",
      "\u001b[1;32m   1536\u001b[0m \n",
      "\u001b[0;32m   (...)\u001b[0m\n",
      "\u001b[1;32m   1774\u001b[0m \u001b[38;5;124;03m(``'green'``) or hex strings (``'#008000'``).\u001b[39;00m\n",
      "\u001b[1;32m   1775\u001b[0m \u001b[38;5;124;03m\"\"\"\u001b[39;00m\n",
      "\u001b[1;32m   1776\u001b[0m kwargs \u001b[38;5;241m=\u001b[39m cbook\u001b[38;5;241m.\u001b[39mnormalize_kwargs(kwargs, mlines\u001b[38;5;241m.\u001b[39mLine2D)\n",
      "\u001b[0;32m-> 1777\u001b[0m lines \u001b[38;5;241m=\u001b[39m [\u001b[38;5;241m*\u001b[39m\u001b[38;5;28mself\u001b[39m\u001b[38;5;241m.\u001b[39m_get_lines(\u001b[38;5;28mself\u001b[39m, \u001b[38;5;241m*\u001b[39margs, data\u001b[38;5;241m=\u001b[39mdata, \u001b[38;5;241m*\u001b[39m\u001b[38;5;241m*\u001b[39mkwargs)]\n",
      "\u001b[1;32m   1778\u001b[0m \u001b[38;5;28;01mfor\u001b[39;00m line \u001b[38;5;129;01min\u001b[39;00m lines:\n",
      "\u001b[1;32m   1779\u001b[0m     \u001b[38;5;28mself\u001b[39m\u001b[38;5;241m.\u001b[39madd_line(line)\n",
      "\n",
      "File \u001b[0;32m~/Library/CloudStorage/Dropbox/07-sld/2025-09-07-ChatGPT와파이썬/.venv/lib/python3.14/site-packages/matplotlib/axes/_base.py:297\u001b[0m, in \u001b[0;36m_process_plot_var_args.__call__\u001b[0;34m(self, axes, data, return_kwargs, *args, **kwargs)\u001b[0m\n",
      "\u001b[1;32m    295\u001b[0m     this \u001b[38;5;241m+\u001b[39m\u001b[38;5;241m=\u001b[39m args[\u001b[38;5;241m0\u001b[39m],\n",
      "\u001b[1;32m    296\u001b[0m     args \u001b[38;5;241m=\u001b[39m args[\u001b[38;5;241m1\u001b[39m:]\n",
      "\u001b[0;32m--> 297\u001b[0m \u001b[38;5;28;01myield from\u001b[39;00m \u001b[38;5;28;43mself\u001b[39;49m\u001b[38;5;241;43m.\u001b[39;49m\u001b[43m_plot_args\u001b[49m\u001b[43m(\u001b[49m\n",
      "\u001b[1;32m    298\u001b[0m \u001b[43m    \u001b[49m\u001b[43maxes\u001b[49m\u001b[43m,\u001b[49m\u001b[43m \u001b[49m\u001b[43mthis\u001b[49m\u001b[43m,\u001b[49m\u001b[43m \u001b[49m\u001b[43mkwargs\u001b[49m\u001b[43m,\u001b[49m\u001b[43m \u001b[49m\u001b[43mambiguous_fmt_datakey\u001b[49m\u001b[38;5;241;43m=\u001b[39;49m\u001b[43mambiguous_fmt_datakey\u001b[49m\u001b[43m,\u001b[49m\n",
      "\u001b[1;32m    299\u001b[0m \u001b[43m    \u001b[49m\u001b[43mreturn_kwargs\u001b[49m\u001b[38;5;241;43m=\u001b[39;49m\u001b[43mreturn_kwargs\u001b[49m\n",
      "\u001b[1;32m    300\u001b[0m \u001b[43m\u001b[49m\u001b[43m)\u001b[49m\n",
      "\n",
      "File \u001b[0;32m~/Library/CloudStorage/Dropbox/07-sld/2025-09-07-ChatGPT와파이썬/.venv/lib/python3.14/site-packages/matplotlib/axes/_base.py:546\u001b[0m, in \u001b[0;36m_process_plot_var_args._plot_args\u001b[0;34m(self, axes, tup, kwargs, return_kwargs, ambiguous_fmt_datakey)\u001b[0m\n",
      "\u001b[1;32m    544\u001b[0m     \u001b[38;5;28;01mreturn\u001b[39;00m \u001b[38;5;28mlist\u001b[39m(result)\n",
      "\u001b[1;32m    545\u001b[0m \u001b[38;5;28;01melse\u001b[39;00m:\n",
      "\u001b[0;32m--> 546\u001b[0m     \u001b[38;5;28;01mreturn\u001b[39;00m \u001b[43m[\u001b[49m\u001b[43ml\u001b[49m\u001b[43m[\u001b[49m\u001b[38;5;241;43m0\u001b[39;49m\u001b[43m]\u001b[49m\u001b[43m \u001b[49m\u001b[38;5;28;43;01mfor\u001b[39;49;00m\u001b[43m \u001b[49m\u001b[43ml\u001b[49m\u001b[43m \u001b[49m\u001b[38;5;129;43;01min\u001b[39;49;00m\u001b[43m \u001b[49m\u001b[43mresult\u001b[49m\u001b[43m]\u001b[49m\n",
      "\n",
      "File \u001b[0;32m~/Library/CloudStorage/Dropbox/07-sld/2025-09-07-ChatGPT와파이썬/.venv/lib/python3.14/site-packages/matplotlib/axes/_base.py:539\u001b[0m, in \u001b[0;36m<genexpr>\u001b[0;34m(.0)\u001b[0m\n",
      "\u001b[1;32m    534\u001b[0m \u001b[38;5;28;01melse\u001b[39;00m:\n",
      "\u001b[1;32m    535\u001b[0m     \u001b[38;5;28;01mraise\u001b[39;00m \u001b[38;5;167;01mValueError\u001b[39;00m(\n",
      "\u001b[1;32m    536\u001b[0m         \u001b[38;5;124mf\u001b[39m\u001b[38;5;124m\"\u001b[39m\u001b[38;5;124mlabel must be scalar or have the same length as the input \u001b[39m\u001b[38;5;124m\"\u001b[39m\n",
      "\u001b[1;32m    537\u001b[0m         \u001b[38;5;124mf\u001b[39m\u001b[38;5;124m\"\u001b[39m\u001b[38;5;124mdata, but found \u001b[39m\u001b[38;5;132;01m{\u001b[39;00m\u001b[38;5;28mlen\u001b[39m(label)\u001b[38;5;132;01m}\u001b[39;00m\u001b[38;5;124m for \u001b[39m\u001b[38;5;132;01m{\u001b[39;00mn_datasets\u001b[38;5;132;01m}\u001b[39;00m\u001b[38;5;124m datasets.\u001b[39m\u001b[38;5;124m\"\u001b[39m)\n",
      "\u001b[0;32m--> 539\u001b[0m result \u001b[38;5;241m=\u001b[39m (\u001b[43mmake_artist\u001b[49m\u001b[43m(\u001b[49m\u001b[43maxes\u001b[49m\u001b[43m,\u001b[49m\u001b[43m \u001b[49m\u001b[43mx\u001b[49m\u001b[43m[\u001b[49m\u001b[43m:\u001b[49m\u001b[43m,\u001b[49m\u001b[43m \u001b[49m\u001b[43mj\u001b[49m\u001b[43m \u001b[49m\u001b[38;5;241;43m%\u001b[39;49m\u001b[43m \u001b[49m\u001b[43mncx\u001b[49m\u001b[43m]\u001b[49m\u001b[43m,\u001b[49m\u001b[43m \u001b[49m\u001b[43my\u001b[49m\u001b[43m[\u001b[49m\u001b[43m:\u001b[49m\u001b[43m,\u001b[49m\u001b[43m \u001b[49m\u001b[43mj\u001b[49m\u001b[43m \u001b[49m\u001b[38;5;241;43m%\u001b[39;49m\u001b[43m \u001b[49m\u001b[43mncy\u001b[49m\u001b[43m]\u001b[49m\u001b[43m,\u001b[49m\u001b[43m \u001b[49m\u001b[43mkw\u001b[49m\u001b[43m,\u001b[49m\n",
      "\u001b[1;32m    540\u001b[0m \u001b[43m                      \u001b[49m\u001b[43m{\u001b[49m\u001b[38;5;241;43m*\u001b[39;49m\u001b[38;5;241;43m*\u001b[39;49m\u001b[43mkwargs\u001b[49m\u001b[43m,\u001b[49m\u001b[43m \u001b[49m\u001b[38;5;124;43m'\u001b[39;49m\u001b[38;5;124;43mlabel\u001b[39;49m\u001b[38;5;124;43m'\u001b[39;49m\u001b[43m:\u001b[49m\u001b[43m \u001b[49m\u001b[43mlabel\u001b[49m\u001b[43m}\u001b[49m\u001b[43m)\u001b[49m\n",
      "\u001b[1;32m    541\u001b[0m           \u001b[38;5;28;01mfor\u001b[39;00m j, label \u001b[38;5;129;01min\u001b[39;00m \u001b[38;5;28menumerate\u001b[39m(labels))\n",
      "\u001b[1;32m    543\u001b[0m \u001b[38;5;28;01mif\u001b[39;00m return_kwargs:\n",
      "\u001b[1;32m    544\u001b[0m     \u001b[38;5;28;01mreturn\u001b[39;00m \u001b[38;5;28mlist\u001b[39m(result)\n",
      "\n",
      "File \u001b[0;32m~/Library/CloudStorage/Dropbox/07-sld/2025-09-07-ChatGPT와파이썬/.venv/lib/python3.14/site-packages/matplotlib/axes/_base.py:338\u001b[0m, in \u001b[0;36m_process_plot_var_args._make_line\u001b[0;34m(self, axes, x, y, kw, kwargs)\u001b[0m\n",
      "\u001b[1;32m    336\u001b[0m kw \u001b[38;5;241m=\u001b[39m {\u001b[38;5;241m*\u001b[39m\u001b[38;5;241m*\u001b[39mkw, \u001b[38;5;241m*\u001b[39m\u001b[38;5;241m*\u001b[39mkwargs}  \u001b[38;5;66;03m# Don't modify the original kw.\u001b[39;00m\n",
      "\u001b[1;32m    337\u001b[0m \u001b[38;5;28mself\u001b[39m\u001b[38;5;241m.\u001b[39m_setdefaults(\u001b[38;5;28mself\u001b[39m\u001b[38;5;241m.\u001b[39m_getdefaults(kw), kw)\n",
      "\u001b[0;32m--> 338\u001b[0m seg \u001b[38;5;241m=\u001b[39m \u001b[43mmlines\u001b[49m\u001b[38;5;241;43m.\u001b[39;49m\u001b[43mLine2D\u001b[49m\u001b[43m(\u001b[49m\u001b[43mx\u001b[49m\u001b[43m,\u001b[49m\u001b[43m \u001b[49m\u001b[43my\u001b[49m\u001b[43m,\u001b[49m\u001b[43m \u001b[49m\u001b[38;5;241;43m*\u001b[39;49m\u001b[38;5;241;43m*\u001b[39;49m\u001b[43mkw\u001b[49m\u001b[43m)\u001b[49m\n",
      "\u001b[1;32m    339\u001b[0m \u001b[38;5;28;01mreturn\u001b[39;00m seg, kw\n",
      "\n",
      "File \u001b[0;32m~/Library/CloudStorage/Dropbox/07-sld/2025-09-07-ChatGPT와파이썬/.venv/lib/python3.14/site-packages/matplotlib/lines.py:421\u001b[0m, in \u001b[0;36mLine2D.__init__\u001b[0;34m(self, xdata, ydata, linewidth, linestyle, color, gapcolor, marker, markersize, markeredgewidth, markeredgecolor, markerfacecolor, markerfacecoloralt, fillstyle, antialiased, dash_capstyle, solid_capstyle, dash_joinstyle, solid_joinstyle, pickradius, drawstyle, markevery, **kwargs)\u001b[0m\n",
      "\u001b[1;32m    417\u001b[0m \u001b[38;5;28mself\u001b[39m\u001b[38;5;241m.\u001b[39mset_markeredgewidth(markeredgewidth)\n",
      "\u001b[1;32m    419\u001b[0m \u001b[38;5;66;03m# update kwargs before updating data to give the caller a\u001b[39;00m\n",
      "\u001b[1;32m    420\u001b[0m \u001b[38;5;66;03m# chance to init axes (and hence unit support)\u001b[39;00m\n",
      "\u001b[0;32m--> 421\u001b[0m \u001b[38;5;28;43mself\u001b[39;49m\u001b[38;5;241;43m.\u001b[39;49m\u001b[43m_internal_update\u001b[49m\u001b[43m(\u001b[49m\u001b[43mkwargs\u001b[49m\u001b[43m)\u001b[49m\n",
      "\u001b[1;32m    422\u001b[0m \u001b[38;5;28mself\u001b[39m\u001b[38;5;241m.\u001b[39mpickradius \u001b[38;5;241m=\u001b[39m pickradius\n",
      "\u001b[1;32m    423\u001b[0m \u001b[38;5;28mself\u001b[39m\u001b[38;5;241m.\u001b[39mind_offset \u001b[38;5;241m=\u001b[39m \u001b[38;5;241m0\u001b[39m\n",
      "\n",
      "File \u001b[0;32m~/Library/CloudStorage/Dropbox/07-sld/2025-09-07-ChatGPT와파이썬/.venv/lib/python3.14/site-packages/matplotlib/artist.py:1233\u001b[0m, in \u001b[0;36mArtist._internal_update\u001b[0;34m(self, kwargs)\u001b[0m\n",
      "\u001b[1;32m   1226\u001b[0m \u001b[38;5;28;01mdef\u001b[39;00m\u001b[38;5;250m \u001b[39m\u001b[38;5;21m_internal_update\u001b[39m(\u001b[38;5;28mself\u001b[39m, kwargs):\n",
      "\u001b[1;32m   1227\u001b[0m \u001b[38;5;250m    \u001b[39m\u001b[38;5;124;03m\"\"\"\u001b[39;00m\n",
      "\u001b[1;32m   1228\u001b[0m \u001b[38;5;124;03m    Update artist properties without prenormalizing them, but generating\u001b[39;00m\n",
      "\u001b[1;32m   1229\u001b[0m \u001b[38;5;124;03m    errors as if calling `set`.\u001b[39;00m\n",
      "\u001b[1;32m   1230\u001b[0m \n",
      "\u001b[1;32m   1231\u001b[0m \u001b[38;5;124;03m    The lack of prenormalization is to maintain backcompatibility.\u001b[39;00m\n",
      "\u001b[1;32m   1232\u001b[0m \u001b[38;5;124;03m    \"\"\"\u001b[39;00m\n",
      "\u001b[0;32m-> 1233\u001b[0m     \u001b[38;5;28;01mreturn\u001b[39;00m \u001b[38;5;28;43mself\u001b[39;49m\u001b[38;5;241;43m.\u001b[39;49m\u001b[43m_update_props\u001b[49m\u001b[43m(\u001b[49m\n",
      "\u001b[1;32m   1234\u001b[0m \u001b[43m        \u001b[49m\u001b[43mkwargs\u001b[49m\u001b[43m,\u001b[49m\u001b[43m \u001b[49m\u001b[38;5;124;43m\"\u001b[39;49m\u001b[38;5;132;43;01m{cls.__name__}\u001b[39;49;00m\u001b[38;5;124;43m.set() got an unexpected keyword argument \u001b[39;49m\u001b[38;5;124;43m\"\u001b[39;49m\n",
      "\u001b[1;32m   1235\u001b[0m \u001b[43m        \u001b[49m\u001b[38;5;124;43m\"\u001b[39;49m\u001b[38;5;132;43;01m{prop_name!r}\u001b[39;49;00m\u001b[38;5;124;43m\"\u001b[39;49m\u001b[43m)\u001b[49m\n",
      "\n",
      "File \u001b[0;32m~/Library/CloudStorage/Dropbox/07-sld/2025-09-07-ChatGPT와파이썬/.venv/lib/python3.14/site-packages/matplotlib/artist.py:1206\u001b[0m, in \u001b[0;36mArtist._update_props\u001b[0;34m(self, props, errfmt)\u001b[0m\n",
      "\u001b[1;32m   1204\u001b[0m             func \u001b[38;5;241m=\u001b[39m \u001b[38;5;28mgetattr\u001b[39m(\u001b[38;5;28mself\u001b[39m, \u001b[38;5;124mf\u001b[39m\u001b[38;5;124m\"\u001b[39m\u001b[38;5;124mset_\u001b[39m\u001b[38;5;132;01m{\u001b[39;00mk\u001b[38;5;132;01m}\u001b[39;00m\u001b[38;5;124m\"\u001b[39m, \u001b[38;5;28;01mNone\u001b[39;00m)\n",
      "\u001b[1;32m   1205\u001b[0m             \u001b[38;5;28;01mif\u001b[39;00m \u001b[38;5;129;01mnot\u001b[39;00m \u001b[38;5;28mcallable\u001b[39m(func):\n",
      "\u001b[0;32m-> 1206\u001b[0m                 \u001b[38;5;28;01mraise\u001b[39;00m \u001b[38;5;167;01mAttributeError\u001b[39;00m(\n",
      "\u001b[1;32m   1207\u001b[0m                     errfmt\u001b[38;5;241m.\u001b[39mformat(\u001b[38;5;28mcls\u001b[39m\u001b[38;5;241m=\u001b[39m\u001b[38;5;28mtype\u001b[39m(\u001b[38;5;28mself\u001b[39m), prop_name\u001b[38;5;241m=\u001b[39mk),\n",
      "\u001b[1;32m   1208\u001b[0m                     name\u001b[38;5;241m=\u001b[39mk)\n",
      "\u001b[1;32m   1209\u001b[0m             ret\u001b[38;5;241m.\u001b[39mappend(func(v))\n",
      "\u001b[1;32m   1210\u001b[0m \u001b[38;5;28;01mif\u001b[39;00m ret:\n",
      "\n",
      "\u001b[0;31mAttributeError\u001b[0m: Line2D.set() got an unexpected keyword argument 'title'"
     ]
    }
   ],
   "source": [
    "plt.plot(x,y,title=\"Figure: Line Plot\")"
   ]
  },
  {
   "cell_type": "markdown",
   "id": "f626e18b",
   "metadata": {},
   "source": [
    "에러를 어떻게 하면 좋을까? "
   ]
  },
  {
   "cell_type": "markdown",
   "id": "7cb2d505",
   "metadata": {},
   "source": [
    "`실습1` -- ChatGPT에게 물어서 대안을 물어보고 해결하기"
   ]
  },
  {
   "cell_type": "code",
   "execution_count": 65,
   "id": "5fc34165",
   "metadata": {},
   "outputs": [
    {
     "ename": "AttributeError",
     "evalue": "Line2D.set() got an unexpected keyword argument 'title'",
     "output_type": "error",
     "traceback": [
      "\u001b[0;31m---------------------------------------------------------------------------\u001b[0m\n",
      "\u001b[0;31mAttributeError\u001b[0m                            Traceback (most recent call last)\n",
      "Cell \u001b[0;32mIn[65], line 1\u001b[0m\n",
      "\u001b[0;32m----> 1\u001b[0m \u001b[43mplt\u001b[49m\u001b[38;5;241;43m.\u001b[39;49m\u001b[43mplot\u001b[49m\u001b[43m(\u001b[49m\u001b[43mx\u001b[49m\u001b[43m,\u001b[49m\u001b[43my\u001b[49m\u001b[43m,\u001b[49m\u001b[43mtitle\u001b[49m\u001b[38;5;241;43m=\u001b[39;49m\u001b[38;5;124;43m\"\u001b[39;49m\u001b[38;5;124;43mFigure: Line Plot\u001b[39;49m\u001b[38;5;124;43m\"\u001b[39;49m\u001b[43m)\u001b[49m \u001b[38;5;66;03m# 이 코드를 수정하라\u001b[39;00m\n",
      "\n",
      "File \u001b[0;32m~/Library/CloudStorage/Dropbox/07-sld/2025-09-07-ChatGPT와파이썬/.venv/lib/python3.14/site-packages/matplotlib/pyplot.py:3838\u001b[0m, in \u001b[0;36mplot\u001b[0;34m(scalex, scaley, data, *args, **kwargs)\u001b[0m\n",
      "\u001b[1;32m   3830\u001b[0m \u001b[38;5;129m@_copy_docstring_and_deprecators\u001b[39m(Axes\u001b[38;5;241m.\u001b[39mplot)\n",
      "\u001b[1;32m   3831\u001b[0m \u001b[38;5;28;01mdef\u001b[39;00m\u001b[38;5;250m \u001b[39m\u001b[38;5;21mplot\u001b[39m(\n",
      "\u001b[1;32m   3832\u001b[0m     \u001b[38;5;241m*\u001b[39margs: \u001b[38;5;28mfloat\u001b[39m \u001b[38;5;241m|\u001b[39m ArrayLike \u001b[38;5;241m|\u001b[39m \u001b[38;5;28mstr\u001b[39m,\n",
      "\u001b[0;32m   (...)\u001b[0m\n",
      "\u001b[1;32m   3836\u001b[0m     \u001b[38;5;241m*\u001b[39m\u001b[38;5;241m*\u001b[39mkwargs,\n",
      "\u001b[1;32m   3837\u001b[0m ) \u001b[38;5;241m-\u001b[39m\u001b[38;5;241m>\u001b[39m \u001b[38;5;28mlist\u001b[39m[Line2D]:\n",
      "\u001b[0;32m-> 3838\u001b[0m     \u001b[38;5;28;01mreturn\u001b[39;00m \u001b[43mgca\u001b[49m\u001b[43m(\u001b[49m\u001b[43m)\u001b[49m\u001b[38;5;241;43m.\u001b[39;49m\u001b[43mplot\u001b[49m\u001b[43m(\u001b[49m\n",
      "\u001b[1;32m   3839\u001b[0m \u001b[43m        \u001b[49m\u001b[38;5;241;43m*\u001b[39;49m\u001b[43margs\u001b[49m\u001b[43m,\u001b[49m\n",
      "\u001b[1;32m   3840\u001b[0m \u001b[43m        \u001b[49m\u001b[43mscalex\u001b[49m\u001b[38;5;241;43m=\u001b[39;49m\u001b[43mscalex\u001b[49m\u001b[43m,\u001b[49m\n",
      "\u001b[1;32m   3841\u001b[0m \u001b[43m        \u001b[49m\u001b[43mscaley\u001b[49m\u001b[38;5;241;43m=\u001b[39;49m\u001b[43mscaley\u001b[49m\u001b[43m,\u001b[49m\n",
      "\u001b[1;32m   3842\u001b[0m \u001b[43m        \u001b[49m\u001b[38;5;241;43m*\u001b[39;49m\u001b[38;5;241;43m*\u001b[39;49m\u001b[43m(\u001b[49m\u001b[43m{\u001b[49m\u001b[38;5;124;43m\"\u001b[39;49m\u001b[38;5;124;43mdata\u001b[39;49m\u001b[38;5;124;43m\"\u001b[39;49m\u001b[43m:\u001b[49m\u001b[43m \u001b[49m\u001b[43mdata\u001b[49m\u001b[43m}\u001b[49m\u001b[43m \u001b[49m\u001b[38;5;28;43;01mif\u001b[39;49;00m\u001b[43m \u001b[49m\u001b[43mdata\u001b[49m\u001b[43m \u001b[49m\u001b[38;5;129;43;01mis\u001b[39;49;00m\u001b[43m \u001b[49m\u001b[38;5;129;43;01mnot\u001b[39;49;00m\u001b[43m \u001b[49m\u001b[38;5;28;43;01mNone\u001b[39;49;00m\u001b[43m \u001b[49m\u001b[38;5;28;43;01melse\u001b[39;49;00m\u001b[43m \u001b[49m\u001b[43m{\u001b[49m\u001b[43m}\u001b[49m\u001b[43m)\u001b[49m\u001b[43m,\u001b[49m\n",
      "\u001b[1;32m   3843\u001b[0m \u001b[43m        \u001b[49m\u001b[38;5;241;43m*\u001b[39;49m\u001b[38;5;241;43m*\u001b[39;49m\u001b[43mkwargs\u001b[49m\u001b[43m,\u001b[49m\n",
      "\u001b[1;32m   3844\u001b[0m \u001b[43m    \u001b[49m\u001b[43m)\u001b[49m\n",
      "\n",
      "File \u001b[0;32m~/Library/CloudStorage/Dropbox/07-sld/2025-09-07-ChatGPT와파이썬/.venv/lib/python3.14/site-packages/matplotlib/axes/_axes.py:1777\u001b[0m, in \u001b[0;36mAxes.plot\u001b[0;34m(self, scalex, scaley, data, *args, **kwargs)\u001b[0m\n",
      "\u001b[1;32m   1534\u001b[0m \u001b[38;5;250m\u001b[39m\u001b[38;5;124;03m\"\"\"\u001b[39;00m\n",
      "\u001b[1;32m   1535\u001b[0m \u001b[38;5;124;03mPlot y versus x as lines and/or markers.\u001b[39;00m\n",
      "\u001b[1;32m   1536\u001b[0m \n",
      "\u001b[0;32m   (...)\u001b[0m\n",
      "\u001b[1;32m   1774\u001b[0m \u001b[38;5;124;03m(``'green'``) or hex strings (``'#008000'``).\u001b[39;00m\n",
      "\u001b[1;32m   1775\u001b[0m \u001b[38;5;124;03m\"\"\"\u001b[39;00m\n",
      "\u001b[1;32m   1776\u001b[0m kwargs \u001b[38;5;241m=\u001b[39m cbook\u001b[38;5;241m.\u001b[39mnormalize_kwargs(kwargs, mlines\u001b[38;5;241m.\u001b[39mLine2D)\n",
      "\u001b[0;32m-> 1777\u001b[0m lines \u001b[38;5;241m=\u001b[39m [\u001b[38;5;241m*\u001b[39m\u001b[38;5;28mself\u001b[39m\u001b[38;5;241m.\u001b[39m_get_lines(\u001b[38;5;28mself\u001b[39m, \u001b[38;5;241m*\u001b[39margs, data\u001b[38;5;241m=\u001b[39mdata, \u001b[38;5;241m*\u001b[39m\u001b[38;5;241m*\u001b[39mkwargs)]\n",
      "\u001b[1;32m   1778\u001b[0m \u001b[38;5;28;01mfor\u001b[39;00m line \u001b[38;5;129;01min\u001b[39;00m lines:\n",
      "\u001b[1;32m   1779\u001b[0m     \u001b[38;5;28mself\u001b[39m\u001b[38;5;241m.\u001b[39madd_line(line)\n",
      "\n",
      "File \u001b[0;32m~/Library/CloudStorage/Dropbox/07-sld/2025-09-07-ChatGPT와파이썬/.venv/lib/python3.14/site-packages/matplotlib/axes/_base.py:297\u001b[0m, in \u001b[0;36m_process_plot_var_args.__call__\u001b[0;34m(self, axes, data, return_kwargs, *args, **kwargs)\u001b[0m\n",
      "\u001b[1;32m    295\u001b[0m     this \u001b[38;5;241m+\u001b[39m\u001b[38;5;241m=\u001b[39m args[\u001b[38;5;241m0\u001b[39m],\n",
      "\u001b[1;32m    296\u001b[0m     args \u001b[38;5;241m=\u001b[39m args[\u001b[38;5;241m1\u001b[39m:]\n",
      "\u001b[0;32m--> 297\u001b[0m \u001b[38;5;28;01myield from\u001b[39;00m \u001b[38;5;28;43mself\u001b[39;49m\u001b[38;5;241;43m.\u001b[39;49m\u001b[43m_plot_args\u001b[49m\u001b[43m(\u001b[49m\n",
      "\u001b[1;32m    298\u001b[0m \u001b[43m    \u001b[49m\u001b[43maxes\u001b[49m\u001b[43m,\u001b[49m\u001b[43m \u001b[49m\u001b[43mthis\u001b[49m\u001b[43m,\u001b[49m\u001b[43m \u001b[49m\u001b[43mkwargs\u001b[49m\u001b[43m,\u001b[49m\u001b[43m \u001b[49m\u001b[43mambiguous_fmt_datakey\u001b[49m\u001b[38;5;241;43m=\u001b[39;49m\u001b[43mambiguous_fmt_datakey\u001b[49m\u001b[43m,\u001b[49m\n",
      "\u001b[1;32m    299\u001b[0m \u001b[43m    \u001b[49m\u001b[43mreturn_kwargs\u001b[49m\u001b[38;5;241;43m=\u001b[39;49m\u001b[43mreturn_kwargs\u001b[49m\n",
      "\u001b[1;32m    300\u001b[0m \u001b[43m\u001b[49m\u001b[43m)\u001b[49m\n",
      "\n",
      "File \u001b[0;32m~/Library/CloudStorage/Dropbox/07-sld/2025-09-07-ChatGPT와파이썬/.venv/lib/python3.14/site-packages/matplotlib/axes/_base.py:546\u001b[0m, in \u001b[0;36m_process_plot_var_args._plot_args\u001b[0;34m(self, axes, tup, kwargs, return_kwargs, ambiguous_fmt_datakey)\u001b[0m\n",
      "\u001b[1;32m    544\u001b[0m     \u001b[38;5;28;01mreturn\u001b[39;00m \u001b[38;5;28mlist\u001b[39m(result)\n",
      "\u001b[1;32m    545\u001b[0m \u001b[38;5;28;01melse\u001b[39;00m:\n",
      "\u001b[0;32m--> 546\u001b[0m     \u001b[38;5;28;01mreturn\u001b[39;00m \u001b[43m[\u001b[49m\u001b[43ml\u001b[49m\u001b[43m[\u001b[49m\u001b[38;5;241;43m0\u001b[39;49m\u001b[43m]\u001b[49m\u001b[43m \u001b[49m\u001b[38;5;28;43;01mfor\u001b[39;49;00m\u001b[43m \u001b[49m\u001b[43ml\u001b[49m\u001b[43m \u001b[49m\u001b[38;5;129;43;01min\u001b[39;49;00m\u001b[43m \u001b[49m\u001b[43mresult\u001b[49m\u001b[43m]\u001b[49m\n",
      "\n",
      "File \u001b[0;32m~/Library/CloudStorage/Dropbox/07-sld/2025-09-07-ChatGPT와파이썬/.venv/lib/python3.14/site-packages/matplotlib/axes/_base.py:539\u001b[0m, in \u001b[0;36m<genexpr>\u001b[0;34m(.0)\u001b[0m\n",
      "\u001b[1;32m    534\u001b[0m \u001b[38;5;28;01melse\u001b[39;00m:\n",
      "\u001b[1;32m    535\u001b[0m     \u001b[38;5;28;01mraise\u001b[39;00m \u001b[38;5;167;01mValueError\u001b[39;00m(\n",
      "\u001b[1;32m    536\u001b[0m         \u001b[38;5;124mf\u001b[39m\u001b[38;5;124m\"\u001b[39m\u001b[38;5;124mlabel must be scalar or have the same length as the input \u001b[39m\u001b[38;5;124m\"\u001b[39m\n",
      "\u001b[1;32m    537\u001b[0m         \u001b[38;5;124mf\u001b[39m\u001b[38;5;124m\"\u001b[39m\u001b[38;5;124mdata, but found \u001b[39m\u001b[38;5;132;01m{\u001b[39;00m\u001b[38;5;28mlen\u001b[39m(label)\u001b[38;5;132;01m}\u001b[39;00m\u001b[38;5;124m for \u001b[39m\u001b[38;5;132;01m{\u001b[39;00mn_datasets\u001b[38;5;132;01m}\u001b[39;00m\u001b[38;5;124m datasets.\u001b[39m\u001b[38;5;124m\"\u001b[39m)\n",
      "\u001b[0;32m--> 539\u001b[0m result \u001b[38;5;241m=\u001b[39m (\u001b[43mmake_artist\u001b[49m\u001b[43m(\u001b[49m\u001b[43maxes\u001b[49m\u001b[43m,\u001b[49m\u001b[43m \u001b[49m\u001b[43mx\u001b[49m\u001b[43m[\u001b[49m\u001b[43m:\u001b[49m\u001b[43m,\u001b[49m\u001b[43m \u001b[49m\u001b[43mj\u001b[49m\u001b[43m \u001b[49m\u001b[38;5;241;43m%\u001b[39;49m\u001b[43m \u001b[49m\u001b[43mncx\u001b[49m\u001b[43m]\u001b[49m\u001b[43m,\u001b[49m\u001b[43m \u001b[49m\u001b[43my\u001b[49m\u001b[43m[\u001b[49m\u001b[43m:\u001b[49m\u001b[43m,\u001b[49m\u001b[43m \u001b[49m\u001b[43mj\u001b[49m\u001b[43m \u001b[49m\u001b[38;5;241;43m%\u001b[39;49m\u001b[43m \u001b[49m\u001b[43mncy\u001b[49m\u001b[43m]\u001b[49m\u001b[43m,\u001b[49m\u001b[43m \u001b[49m\u001b[43mkw\u001b[49m\u001b[43m,\u001b[49m\n",
      "\u001b[1;32m    540\u001b[0m \u001b[43m                      \u001b[49m\u001b[43m{\u001b[49m\u001b[38;5;241;43m*\u001b[39;49m\u001b[38;5;241;43m*\u001b[39;49m\u001b[43mkwargs\u001b[49m\u001b[43m,\u001b[49m\u001b[43m \u001b[49m\u001b[38;5;124;43m'\u001b[39;49m\u001b[38;5;124;43mlabel\u001b[39;49m\u001b[38;5;124;43m'\u001b[39;49m\u001b[43m:\u001b[49m\u001b[43m \u001b[49m\u001b[43mlabel\u001b[49m\u001b[43m}\u001b[49m\u001b[43m)\u001b[49m\n",
      "\u001b[1;32m    541\u001b[0m           \u001b[38;5;28;01mfor\u001b[39;00m j, label \u001b[38;5;129;01min\u001b[39;00m \u001b[38;5;28menumerate\u001b[39m(labels))\n",
      "\u001b[1;32m    543\u001b[0m \u001b[38;5;28;01mif\u001b[39;00m return_kwargs:\n",
      "\u001b[1;32m    544\u001b[0m     \u001b[38;5;28;01mreturn\u001b[39;00m \u001b[38;5;28mlist\u001b[39m(result)\n",
      "\n",
      "File \u001b[0;32m~/Library/CloudStorage/Dropbox/07-sld/2025-09-07-ChatGPT와파이썬/.venv/lib/python3.14/site-packages/matplotlib/axes/_base.py:338\u001b[0m, in \u001b[0;36m_process_plot_var_args._make_line\u001b[0;34m(self, axes, x, y, kw, kwargs)\u001b[0m\n",
      "\u001b[1;32m    336\u001b[0m kw \u001b[38;5;241m=\u001b[39m {\u001b[38;5;241m*\u001b[39m\u001b[38;5;241m*\u001b[39mkw, \u001b[38;5;241m*\u001b[39m\u001b[38;5;241m*\u001b[39mkwargs}  \u001b[38;5;66;03m# Don't modify the original kw.\u001b[39;00m\n",
      "\u001b[1;32m    337\u001b[0m \u001b[38;5;28mself\u001b[39m\u001b[38;5;241m.\u001b[39m_setdefaults(\u001b[38;5;28mself\u001b[39m\u001b[38;5;241m.\u001b[39m_getdefaults(kw), kw)\n",
      "\u001b[0;32m--> 338\u001b[0m seg \u001b[38;5;241m=\u001b[39m \u001b[43mmlines\u001b[49m\u001b[38;5;241;43m.\u001b[39;49m\u001b[43mLine2D\u001b[49m\u001b[43m(\u001b[49m\u001b[43mx\u001b[49m\u001b[43m,\u001b[49m\u001b[43m \u001b[49m\u001b[43my\u001b[49m\u001b[43m,\u001b[49m\u001b[43m \u001b[49m\u001b[38;5;241;43m*\u001b[39;49m\u001b[38;5;241;43m*\u001b[39;49m\u001b[43mkw\u001b[49m\u001b[43m)\u001b[49m\n",
      "\u001b[1;32m    339\u001b[0m \u001b[38;5;28;01mreturn\u001b[39;00m seg, kw\n",
      "\n",
      "File \u001b[0;32m~/Library/CloudStorage/Dropbox/07-sld/2025-09-07-ChatGPT와파이썬/.venv/lib/python3.14/site-packages/matplotlib/lines.py:421\u001b[0m, in \u001b[0;36mLine2D.__init__\u001b[0;34m(self, xdata, ydata, linewidth, linestyle, color, gapcolor, marker, markersize, markeredgewidth, markeredgecolor, markerfacecolor, markerfacecoloralt, fillstyle, antialiased, dash_capstyle, solid_capstyle, dash_joinstyle, solid_joinstyle, pickradius, drawstyle, markevery, **kwargs)\u001b[0m\n",
      "\u001b[1;32m    417\u001b[0m \u001b[38;5;28mself\u001b[39m\u001b[38;5;241m.\u001b[39mset_markeredgewidth(markeredgewidth)\n",
      "\u001b[1;32m    419\u001b[0m \u001b[38;5;66;03m# update kwargs before updating data to give the caller a\u001b[39;00m\n",
      "\u001b[1;32m    420\u001b[0m \u001b[38;5;66;03m# chance to init axes (and hence unit support)\u001b[39;00m\n",
      "\u001b[0;32m--> 421\u001b[0m \u001b[38;5;28;43mself\u001b[39;49m\u001b[38;5;241;43m.\u001b[39;49m\u001b[43m_internal_update\u001b[49m\u001b[43m(\u001b[49m\u001b[43mkwargs\u001b[49m\u001b[43m)\u001b[49m\n",
      "\u001b[1;32m    422\u001b[0m \u001b[38;5;28mself\u001b[39m\u001b[38;5;241m.\u001b[39mpickradius \u001b[38;5;241m=\u001b[39m pickradius\n",
      "\u001b[1;32m    423\u001b[0m \u001b[38;5;28mself\u001b[39m\u001b[38;5;241m.\u001b[39mind_offset \u001b[38;5;241m=\u001b[39m \u001b[38;5;241m0\u001b[39m\n",
      "\n",
      "File \u001b[0;32m~/Library/CloudStorage/Dropbox/07-sld/2025-09-07-ChatGPT와파이썬/.venv/lib/python3.14/site-packages/matplotlib/artist.py:1233\u001b[0m, in \u001b[0;36mArtist._internal_update\u001b[0;34m(self, kwargs)\u001b[0m\n",
      "\u001b[1;32m   1226\u001b[0m \u001b[38;5;28;01mdef\u001b[39;00m\u001b[38;5;250m \u001b[39m\u001b[38;5;21m_internal_update\u001b[39m(\u001b[38;5;28mself\u001b[39m, kwargs):\n",
      "\u001b[1;32m   1227\u001b[0m \u001b[38;5;250m    \u001b[39m\u001b[38;5;124;03m\"\"\"\u001b[39;00m\n",
      "\u001b[1;32m   1228\u001b[0m \u001b[38;5;124;03m    Update artist properties without prenormalizing them, but generating\u001b[39;00m\n",
      "\u001b[1;32m   1229\u001b[0m \u001b[38;5;124;03m    errors as if calling `set`.\u001b[39;00m\n",
      "\u001b[1;32m   1230\u001b[0m \n",
      "\u001b[1;32m   1231\u001b[0m \u001b[38;5;124;03m    The lack of prenormalization is to maintain backcompatibility.\u001b[39;00m\n",
      "\u001b[1;32m   1232\u001b[0m \u001b[38;5;124;03m    \"\"\"\u001b[39;00m\n",
      "\u001b[0;32m-> 1233\u001b[0m     \u001b[38;5;28;01mreturn\u001b[39;00m \u001b[38;5;28;43mself\u001b[39;49m\u001b[38;5;241;43m.\u001b[39;49m\u001b[43m_update_props\u001b[49m\u001b[43m(\u001b[49m\n",
      "\u001b[1;32m   1234\u001b[0m \u001b[43m        \u001b[49m\u001b[43mkwargs\u001b[49m\u001b[43m,\u001b[49m\u001b[43m \u001b[49m\u001b[38;5;124;43m\"\u001b[39;49m\u001b[38;5;132;43;01m{cls.__name__}\u001b[39;49;00m\u001b[38;5;124;43m.set() got an unexpected keyword argument \u001b[39;49m\u001b[38;5;124;43m\"\u001b[39;49m\n",
      "\u001b[1;32m   1235\u001b[0m \u001b[43m        \u001b[49m\u001b[38;5;124;43m\"\u001b[39;49m\u001b[38;5;132;43;01m{prop_name!r}\u001b[39;49;00m\u001b[38;5;124;43m\"\u001b[39;49m\u001b[43m)\u001b[49m\n",
      "\n",
      "File \u001b[0;32m~/Library/CloudStorage/Dropbox/07-sld/2025-09-07-ChatGPT와파이썬/.venv/lib/python3.14/site-packages/matplotlib/artist.py:1206\u001b[0m, in \u001b[0;36mArtist._update_props\u001b[0;34m(self, props, errfmt)\u001b[0m\n",
      "\u001b[1;32m   1204\u001b[0m             func \u001b[38;5;241m=\u001b[39m \u001b[38;5;28mgetattr\u001b[39m(\u001b[38;5;28mself\u001b[39m, \u001b[38;5;124mf\u001b[39m\u001b[38;5;124m\"\u001b[39m\u001b[38;5;124mset_\u001b[39m\u001b[38;5;132;01m{\u001b[39;00mk\u001b[38;5;132;01m}\u001b[39;00m\u001b[38;5;124m\"\u001b[39m, \u001b[38;5;28;01mNone\u001b[39;00m)\n",
      "\u001b[1;32m   1205\u001b[0m             \u001b[38;5;28;01mif\u001b[39;00m \u001b[38;5;129;01mnot\u001b[39;00m \u001b[38;5;28mcallable\u001b[39m(func):\n",
      "\u001b[0;32m-> 1206\u001b[0m                 \u001b[38;5;28;01mraise\u001b[39;00m \u001b[38;5;167;01mAttributeError\u001b[39;00m(\n",
      "\u001b[1;32m   1207\u001b[0m                     errfmt\u001b[38;5;241m.\u001b[39mformat(\u001b[38;5;28mcls\u001b[39m\u001b[38;5;241m=\u001b[39m\u001b[38;5;28mtype\u001b[39m(\u001b[38;5;28mself\u001b[39m), prop_name\u001b[38;5;241m=\u001b[39mk),\n",
      "\u001b[1;32m   1208\u001b[0m                     name\u001b[38;5;241m=\u001b[39mk)\n",
      "\u001b[1;32m   1209\u001b[0m             ret\u001b[38;5;241m.\u001b[39mappend(func(v))\n",
      "\u001b[1;32m   1210\u001b[0m \u001b[38;5;28;01mif\u001b[39;00m ret:\n",
      "\n",
      "\u001b[0;31mAttributeError\u001b[0m: Line2D.set() got an unexpected keyword argument 'title'"
     ]
    }
   ],
   "source": [
    "plt.plot(x,y,title=\"Figure: Line Plot\") # 이 코드를 수정하라"
   ]
  },
  {
   "attachments": {
    "image-2.png": {
     "image/png": "[encoded data removed]"
    }
   },
   "cell_type": "markdown",
   "id": "f0d7125c",
   "metadata": {
    "vscode": {
     "languageId": "r"
    }
   },
   "source": [
    "`실습2` -- 코랩에서 `Explain error`를 활용하여 해결하기\n",
    "\n",
    "![-](attachment:image-2.png)"
   ]
  },
  {
   "cell_type": "code",
   "execution_count": 66,
   "id": "65e408e0",
   "metadata": {},
   "outputs": [
    {
     "ename": "AttributeError",
     "evalue": "Line2D.set() got an unexpected keyword argument 'title'",
     "output_type": "error",
     "traceback": [
      "\u001b[0;31m---------------------------------------------------------------------------\u001b[0m\n",
      "\u001b[0;31mAttributeError\u001b[0m                            Traceback (most recent call last)\n",
      "Cell \u001b[0;32mIn[66], line 1\u001b[0m\n",
      "\u001b[0;32m----> 1\u001b[0m \u001b[43mplt\u001b[49m\u001b[38;5;241;43m.\u001b[39;49m\u001b[43mplot\u001b[49m\u001b[43m(\u001b[49m\u001b[43mx\u001b[49m\u001b[43m,\u001b[49m\u001b[43my\u001b[49m\u001b[43m,\u001b[49m\u001b[43mtitle\u001b[49m\u001b[38;5;241;43m=\u001b[39;49m\u001b[38;5;124;43m\"\u001b[39;49m\u001b[38;5;124;43mFigure: Line Plot\u001b[39;49m\u001b[38;5;124;43m\"\u001b[39;49m\u001b[43m)\u001b[49m \u001b[38;5;66;03m# 이 코드를 수정하라\u001b[39;00m\n",
      "\n",
      "File \u001b[0;32m~/Library/CloudStorage/Dropbox/07-sld/2025-09-07-ChatGPT와파이썬/.venv/lib/python3.14/site-packages/matplotlib/pyplot.py:3838\u001b[0m, in \u001b[0;36mplot\u001b[0;34m(scalex, scaley, data, *args, **kwargs)\u001b[0m\n",
      "\u001b[1;32m   3830\u001b[0m \u001b[38;5;129m@_copy_docstring_and_deprecators\u001b[39m(Axes\u001b[38;5;241m.\u001b[39mplot)\n",
      "\u001b[1;32m   3831\u001b[0m \u001b[38;5;28;01mdef\u001b[39;00m\u001b[38;5;250m \u001b[39m\u001b[38;5;21mplot\u001b[39m(\n",
      "\u001b[1;32m   3832\u001b[0m     \u001b[38;5;241m*\u001b[39margs: \u001b[38;5;28mfloat\u001b[39m \u001b[38;5;241m|\u001b[39m ArrayLike \u001b[38;5;241m|\u001b[39m \u001b[38;5;28mstr\u001b[39m,\n",
      "\u001b[0;32m   (...)\u001b[0m\n",
      "\u001b[1;32m   3836\u001b[0m     \u001b[38;5;241m*\u001b[39m\u001b[38;5;241m*\u001b[39mkwargs,\n",
      "\u001b[1;32m   3837\u001b[0m ) \u001b[38;5;241m-\u001b[39m\u001b[38;5;241m>\u001b[39m \u001b[38;5;28mlist\u001b[39m[Line2D]:\n",
      "\u001b[0;32m-> 3838\u001b[0m     \u001b[38;5;28;01mreturn\u001b[39;00m \u001b[43mgca\u001b[49m\u001b[43m(\u001b[49m\u001b[43m)\u001b[49m\u001b[38;5;241;43m.\u001b[39;49m\u001b[43mplot\u001b[49m\u001b[43m(\u001b[49m\n",
      "\u001b[1;32m   3839\u001b[0m \u001b[43m        \u001b[49m\u001b[38;5;241;43m*\u001b[39;49m\u001b[43margs\u001b[49m\u001b[43m,\u001b[49m\n",
      "\u001b[1;32m   3840\u001b[0m \u001b[43m        \u001b[49m\u001b[43mscalex\u001b[49m\u001b[38;5;241;43m=\u001b[39;49m\u001b[43mscalex\u001b[49m\u001b[43m,\u001b[49m\n",
      "\u001b[1;32m   3841\u001b[0m \u001b[43m        \u001b[49m\u001b[43mscaley\u001b[49m\u001b[38;5;241;43m=\u001b[39;49m\u001b[43mscaley\u001b[49m\u001b[43m,\u001b[49m\n",
      "\u001b[1;32m   3842\u001b[0m \u001b[43m        \u001b[49m\u001b[38;5;241;43m*\u001b[39;49m\u001b[38;5;241;43m*\u001b[39;49m\u001b[43m(\u001b[49m\u001b[43m{\u001b[49m\u001b[38;5;124;43m\"\u001b[39;49m\u001b[38;5;124;43mdata\u001b[39;49m\u001b[38;5;124;43m\"\u001b[39;49m\u001b[43m:\u001b[49m\u001b[43m \u001b[49m\u001b[43mdata\u001b[49m\u001b[43m}\u001b[49m\u001b[43m \u001b[49m\u001b[38;5;28;43;01mif\u001b[39;49;00m\u001b[43m \u001b[49m\u001b[43mdata\u001b[49m\u001b[43m \u001b[49m\u001b[38;5;129;43;01mis\u001b[39;49;00m\u001b[43m \u001b[49m\u001b[38;5;129;43;01mnot\u001b[39;49;00m\u001b[43m \u001b[49m\u001b[38;5;28;43;01mNone\u001b[39;49;00m\u001b[43m \u001b[49m\u001b[38;5;28;43;01melse\u001b[39;49;00m\u001b[43m \u001b[49m\u001b[43m{\u001b[49m\u001b[43m}\u001b[49m\u001b[43m)\u001b[49m\u001b[43m,\u001b[49m\n",
      "\u001b[1;32m   3843\u001b[0m \u001b[43m        \u001b[49m\u001b[38;5;241;43m*\u001b[39;49m\u001b[38;5;241;43m*\u001b[39;49m\u001b[43mkwargs\u001b[49m\u001b[43m,\u001b[49m\n",
      "\u001b[1;32m   3844\u001b[0m \u001b[43m    \u001b[49m\u001b[43m)\u001b[49m\n",
      "\n",
      "File \u001b[0;32m~/Library/CloudStorage/Dropbox/07-sld/2025-09-07-ChatGPT와파이썬/.venv/lib/python3.14/site-packages/matplotlib/axes/_axes.py:1777\u001b[0m, in \u001b[0;36mAxes.plot\u001b[0;34m(self, scalex, scaley, data, *args, **kwargs)\u001b[0m\n",
      "\u001b[1;32m   1534\u001b[0m \u001b[38;5;250m\u001b[39m\u001b[38;5;124;03m\"\"\"\u001b[39;00m\n",
      "\u001b[1;32m   1535\u001b[0m \u001b[38;5;124;03mPlot y versus x as lines and/or markers.\u001b[39;00m\n",
      "\u001b[1;32m   1536\u001b[0m \n",
      "\u001b[0;32m   (...)\u001b[0m\n",
      "\u001b[1;32m   1774\u001b[0m \u001b[38;5;124;03m(``'green'``) or hex strings (``'#008000'``).\u001b[39;00m\n",
      "\u001b[1;32m   1775\u001b[0m \u001b[38;5;124;03m\"\"\"\u001b[39;00m\n",
      "\u001b[1;32m   1776\u001b[0m kwargs \u001b[38;5;241m=\u001b[39m cbook\u001b[38;5;241m.\u001b[39mnormalize_kwargs(kwargs, mlines\u001b[38;5;241m.\u001b[39mLine2D)\n",
      "\u001b[0;32m-> 1777\u001b[0m lines \u001b[38;5;241m=\u001b[39m [\u001b[38;5;241m*\u001b[39m\u001b[38;5;28mself\u001b[39m\u001b[38;5;241m.\u001b[39m_get_lines(\u001b[38;5;28mself\u001b[39m, \u001b[38;5;241m*\u001b[39margs, data\u001b[38;5;241m=\u001b[39mdata, \u001b[38;5;241m*\u001b[39m\u001b[38;5;241m*\u001b[39mkwargs)]\n",
      "\u001b[1;32m   1778\u001b[0m \u001b[38;5;28;01mfor\u001b[39;00m line \u001b[38;5;129;01min\u001b[39;00m lines:\n",
      "\u001b[1;32m   1779\u001b[0m     \u001b[38;5;28mself\u001b[39m\u001b[38;5;241m.\u001b[39madd_line(line)\n",
      "\n",
      "File \u001b[0;32m~/Library/CloudStorage/Dropbox/07-sld/2025-09-07-ChatGPT와파이썬/.venv/lib/python3.14/site-packages/matplotlib/axes/_base.py:297\u001b[0m, in \u001b[0;36m_process_plot_var_args.__call__\u001b[0;34m(self, axes, data, return_kwargs, *args, **kwargs)\u001b[0m\n",
      "\u001b[1;32m    295\u001b[0m     this \u001b[38;5;241m+\u001b[39m\u001b[38;5;241m=\u001b[39m args[\u001b[38;5;241m0\u001b[39m],\n",
      "\u001b[1;32m    296\u001b[0m     args \u001b[38;5;241m=\u001b[39m args[\u001b[38;5;241m1\u001b[39m:]\n",
      "\u001b[0;32m--> 297\u001b[0m \u001b[38;5;28;01myield from\u001b[39;00m \u001b[38;5;28;43mself\u001b[39;49m\u001b[38;5;241;43m.\u001b[39;49m\u001b[43m_plot_args\u001b[49m\u001b[43m(\u001b[49m\n",
      "\u001b[1;32m    298\u001b[0m \u001b[43m    \u001b[49m\u001b[43maxes\u001b[49m\u001b[43m,\u001b[49m\u001b[43m \u001b[49m\u001b[43mthis\u001b[49m\u001b[43m,\u001b[49m\u001b[43m \u001b[49m\u001b[43mkwargs\u001b[49m\u001b[43m,\u001b[49m\u001b[43m \u001b[49m\u001b[43mambiguous_fmt_datakey\u001b[49m\u001b[38;5;241;43m=\u001b[39;49m\u001b[43mambiguous_fmt_datakey\u001b[49m\u001b[43m,\u001b[49m\n",
      "\u001b[1;32m    299\u001b[0m \u001b[43m    \u001b[49m\u001b[43mreturn_kwargs\u001b[49m\u001b[38;5;241;43m=\u001b[39;49m\u001b[43mreturn_kwargs\u001b[49m\n",
      "\u001b[1;32m    300\u001b[0m \u001b[43m\u001b[49m\u001b[43m)\u001b[49m\n",
      "\n",
      "File \u001b[0;32m~/Library/CloudStorage/Dropbox/07-sld/2025-09-07-ChatGPT와파이썬/.venv/lib/python3.14/site-packages/matplotlib/axes/_base.py:546\u001b[0m, in \u001b[0;36m_process_plot_var_args._plot_args\u001b[0;34m(self, axes, tup, kwargs, return_kwargs, ambiguous_fmt_datakey)\u001b[0m\n",
      "\u001b[1;32m    544\u001b[0m     \u001b[38;5;28;01mreturn\u001b[39;00m \u001b[38;5;28mlist\u001b[39m(result)\n",
      "\u001b[1;32m    545\u001b[0m \u001b[38;5;28;01melse\u001b[39;00m:\n",
      "\u001b[0;32m--> 546\u001b[0m     \u001b[38;5;28;01mreturn\u001b[39;00m \u001b[43m[\u001b[49m\u001b[43ml\u001b[49m\u001b[43m[\u001b[49m\u001b[38;5;241;43m0\u001b[39;49m\u001b[43m]\u001b[49m\u001b[43m \u001b[49m\u001b[38;5;28;43;01mfor\u001b[39;49;00m\u001b[43m \u001b[49m\u001b[43ml\u001b[49m\u001b[43m \u001b[49m\u001b[38;5;129;43;01min\u001b[39;49;00m\u001b[43m \u001b[49m\u001b[43mresult\u001b[49m\u001b[43m]\u001b[49m\n",
      "\n",
      "File \u001b[0;32m~/Library/CloudStorage/Dropbox/07-sld/2025-09-07-ChatGPT와파이썬/.venv/lib/python3.14/site-packages/matplotlib/axes/_base.py:539\u001b[0m, in \u001b[0;36m<genexpr>\u001b[0;34m(.0)\u001b[0m\n",
      "\u001b[1;32m    534\u001b[0m \u001b[38;5;28;01melse\u001b[39;00m:\n",
      "\u001b[1;32m    535\u001b[0m     \u001b[38;5;28;01mraise\u001b[39;00m \u001b[38;5;167;01mValueError\u001b[39;00m(\n",
      "\u001b[1;32m    536\u001b[0m         \u001b[38;5;124mf\u001b[39m\u001b[38;5;124m\"\u001b[39m\u001b[38;5;124mlabel must be scalar or have the same length as the input \u001b[39m\u001b[38;5;124m\"\u001b[39m\n",
      "\u001b[1;32m    537\u001b[0m         \u001b[38;5;124mf\u001b[39m\u001b[38;5;124m\"\u001b[39m\u001b[38;5;124mdata, but found \u001b[39m\u001b[38;5;132;01m{\u001b[39;00m\u001b[38;5;28mlen\u001b[39m(label)\u001b[38;5;132;01m}\u001b[39;00m\u001b[38;5;124m for \u001b[39m\u001b[38;5;132;01m{\u001b[39;00mn_datasets\u001b[38;5;132;01m}\u001b[39;00m\u001b[38;5;124m datasets.\u001b[39m\u001b[38;5;124m\"\u001b[39m)\n",
      "\u001b[0;32m--> 539\u001b[0m result \u001b[38;5;241m=\u001b[39m (\u001b[43mmake_artist\u001b[49m\u001b[43m(\u001b[49m\u001b[43maxes\u001b[49m\u001b[43m,\u001b[49m\u001b[43m \u001b[49m\u001b[43mx\u001b[49m\u001b[43m[\u001b[49m\u001b[43m:\u001b[49m\u001b[43m,\u001b[49m\u001b[43m \u001b[49m\u001b[43mj\u001b[49m\u001b[43m \u001b[49m\u001b[38;5;241;43m%\u001b[39;49m\u001b[43m \u001b[49m\u001b[43mncx\u001b[49m\u001b[43m]\u001b[49m\u001b[43m,\u001b[49m\u001b[43m \u001b[49m\u001b[43my\u001b[49m\u001b[43m[\u001b[49m\u001b[43m:\u001b[49m\u001b[43m,\u001b[49m\u001b[43m \u001b[49m\u001b[43mj\u001b[49m\u001b[43m \u001b[49m\u001b[38;5;241;43m%\u001b[39;49m\u001b[43m \u001b[49m\u001b[43mncy\u001b[49m\u001b[43m]\u001b[49m\u001b[43m,\u001b[49m\u001b[43m \u001b[49m\u001b[43mkw\u001b[49m\u001b[43m,\u001b[49m\n",
      "\u001b[1;32m    540\u001b[0m \u001b[43m                      \u001b[49m\u001b[43m{\u001b[49m\u001b[38;5;241;43m*\u001b[39;49m\u001b[38;5;241;43m*\u001b[39;49m\u001b[43mkwargs\u001b[49m\u001b[43m,\u001b[49m\u001b[43m \u001b[49m\u001b[38;5;124;43m'\u001b[39;49m\u001b[38;5;124;43mlabel\u001b[39;49m\u001b[38;5;124;43m'\u001b[39;49m\u001b[43m:\u001b[49m\u001b[43m \u001b[49m\u001b[43mlabel\u001b[49m\u001b[43m}\u001b[49m\u001b[43m)\u001b[49m\n",
      "\u001b[1;32m    541\u001b[0m           \u001b[38;5;28;01mfor\u001b[39;00m j, label \u001b[38;5;129;01min\u001b[39;00m \u001b[38;5;28menumerate\u001b[39m(labels))\n",
      "\u001b[1;32m    543\u001b[0m \u001b[38;5;28;01mif\u001b[39;00m return_kwargs:\n",
      "\u001b[1;32m    544\u001b[0m     \u001b[38;5;28;01mreturn\u001b[39;00m \u001b[38;5;28mlist\u001b[39m(result)\n",
      "\n",
      "File \u001b[0;32m~/Library/CloudStorage/Dropbox/07-sld/2025-09-07-ChatGPT와파이썬/.venv/lib/python3.14/site-packages/matplotlib/axes/_base.py:338\u001b[0m, in \u001b[0;36m_process_plot_var_args._make_line\u001b[0;34m(self, axes, x, y, kw, kwargs)\u001b[0m\n",
      "\u001b[1;32m    336\u001b[0m kw \u001b[38;5;241m=\u001b[39m {\u001b[38;5;241m*\u001b[39m\u001b[38;5;241m*\u001b[39mkw, \u001b[38;5;241m*\u001b[39m\u001b[38;5;241m*\u001b[39mkwargs}  \u001b[38;5;66;03m# Don't modify the original kw.\u001b[39;00m\n",
      "\u001b[1;32m    337\u001b[0m \u001b[38;5;28mself\u001b[39m\u001b[38;5;241m.\u001b[39m_setdefaults(\u001b[38;5;28mself\u001b[39m\u001b[38;5;241m.\u001b[39m_getdefaults(kw), kw)\n",
      "\u001b[0;32m--> 338\u001b[0m seg \u001b[38;5;241m=\u001b[39m \u001b[43mmlines\u001b[49m\u001b[38;5;241;43m.\u001b[39;49m\u001b[43mLine2D\u001b[49m\u001b[43m(\u001b[49m\u001b[43mx\u001b[49m\u001b[43m,\u001b[49m\u001b[43m \u001b[49m\u001b[43my\u001b[49m\u001b[43m,\u001b[49m\u001b[43m \u001b[49m\u001b[38;5;241;43m*\u001b[39;49m\u001b[38;5;241;43m*\u001b[39;49m\u001b[43mkw\u001b[49m\u001b[43m)\u001b[49m\n",
      "\u001b[1;32m    339\u001b[0m \u001b[38;5;28;01mreturn\u001b[39;00m seg, kw\n",
      "\n",
      "File \u001b[0;32m~/Library/CloudStorage/Dropbox/07-sld/2025-09-07-ChatGPT와파이썬/.venv/lib/python3.14/site-packages/matplotlib/lines.py:421\u001b[0m, in \u001b[0;36mLine2D.__init__\u001b[0;34m(self, xdata, ydata, linewidth, linestyle, color, gapcolor, marker, markersize, markeredgewidth, markeredgecolor, markerfacecolor, markerfacecoloralt, fillstyle, antialiased, dash_capstyle, solid_capstyle, dash_joinstyle, solid_joinstyle, pickradius, drawstyle, markevery, **kwargs)\u001b[0m\n",
      "\u001b[1;32m    417\u001b[0m \u001b[38;5;28mself\u001b[39m\u001b[38;5;241m.\u001b[39mset_markeredgewidth(markeredgewidth)\n",
      "\u001b[1;32m    419\u001b[0m \u001b[38;5;66;03m# update kwargs before updating data to give the caller a\u001b[39;00m\n",
      "\u001b[1;32m    420\u001b[0m \u001b[38;5;66;03m# chance to init axes (and hence unit support)\u001b[39;00m\n",
      "\u001b[0;32m--> 421\u001b[0m \u001b[38;5;28;43mself\u001b[39;49m\u001b[38;5;241;43m.\u001b[39;49m\u001b[43m_internal_update\u001b[49m\u001b[43m(\u001b[49m\u001b[43mkwargs\u001b[49m\u001b[43m)\u001b[49m\n",
      "\u001b[1;32m    422\u001b[0m \u001b[38;5;28mself\u001b[39m\u001b[38;5;241m.\u001b[39mpickradius \u001b[38;5;241m=\u001b[39m pickradius\n",
      "\u001b[1;32m    423\u001b[0m \u001b[38;5;28mself\u001b[39m\u001b[38;5;241m.\u001b[39mind_offset \u001b[38;5;241m=\u001b[39m \u001b[38;5;241m0\u001b[39m\n",
      "\n",
      "File \u001b[0;32m~/Library/CloudStorage/Dropbox/07-sld/2025-09-07-ChatGPT와파이썬/.venv/lib/python3.14/site-packages/matplotlib/artist.py:1233\u001b[0m, in \u001b[0;36mArtist._internal_update\u001b[0;34m(self, kwargs)\u001b[0m\n",
      "\u001b[1;32m   1226\u001b[0m \u001b[38;5;28;01mdef\u001b[39;00m\u001b[38;5;250m \u001b[39m\u001b[38;5;21m_internal_update\u001b[39m(\u001b[38;5;28mself\u001b[39m, kwargs):\n",
      "\u001b[1;32m   1227\u001b[0m \u001b[38;5;250m    \u001b[39m\u001b[38;5;124;03m\"\"\"\u001b[39;00m\n",
      "\u001b[1;32m   1228\u001b[0m \u001b[38;5;124;03m    Update artist properties without prenormalizing them, but generating\u001b[39;00m\n",
      "\u001b[1;32m   1229\u001b[0m \u001b[38;5;124;03m    errors as if calling `set`.\u001b[39;00m\n",
      "\u001b[1;32m   1230\u001b[0m \n",
      "\u001b[1;32m   1231\u001b[0m \u001b[38;5;124;03m    The lack of prenormalization is to maintain backcompatibility.\u001b[39;00m\n",
      "\u001b[1;32m   1232\u001b[0m \u001b[38;5;124;03m    \"\"\"\u001b[39;00m\n",
      "\u001b[0;32m-> 1233\u001b[0m     \u001b[38;5;28;01mreturn\u001b[39;00m \u001b[38;5;28;43mself\u001b[39;49m\u001b[38;5;241;43m.\u001b[39;49m\u001b[43m_update_props\u001b[49m\u001b[43m(\u001b[49m\n",
      "\u001b[1;32m   1234\u001b[0m \u001b[43m        \u001b[49m\u001b[43mkwargs\u001b[49m\u001b[43m,\u001b[49m\u001b[43m \u001b[49m\u001b[38;5;124;43m\"\u001b[39;49m\u001b[38;5;132;43;01m{cls.__name__}\u001b[39;49;00m\u001b[38;5;124;43m.set() got an unexpected keyword argument \u001b[39;49m\u001b[38;5;124;43m\"\u001b[39;49m\n",
      "\u001b[1;32m   1235\u001b[0m \u001b[43m        \u001b[49m\u001b[38;5;124;43m\"\u001b[39;49m\u001b[38;5;132;43;01m{prop_name!r}\u001b[39;49;00m\u001b[38;5;124;43m\"\u001b[39;49m\u001b[43m)\u001b[49m\n",
      "\n",
      "File \u001b[0;32m~/Library/CloudStorage/Dropbox/07-sld/2025-09-07-ChatGPT와파이썬/.venv/lib/python3.14/site-packages/matplotlib/artist.py:1206\u001b[0m, in \u001b[0;36mArtist._update_props\u001b[0;34m(self, props, errfmt)\u001b[0m\n",
      "\u001b[1;32m   1204\u001b[0m             func \u001b[38;5;241m=\u001b[39m \u001b[38;5;28mgetattr\u001b[39m(\u001b[38;5;28mself\u001b[39m, \u001b[38;5;124mf\u001b[39m\u001b[38;5;124m\"\u001b[39m\u001b[38;5;124mset_\u001b[39m\u001b[38;5;132;01m{\u001b[39;00mk\u001b[38;5;132;01m}\u001b[39;00m\u001b[38;5;124m\"\u001b[39m, \u001b[38;5;28;01mNone\u001b[39;00m)\n",
      "\u001b[1;32m   1205\u001b[0m             \u001b[38;5;28;01mif\u001b[39;00m \u001b[38;5;129;01mnot\u001b[39;00m \u001b[38;5;28mcallable\u001b[39m(func):\n",
      "\u001b[0;32m-> 1206\u001b[0m                 \u001b[38;5;28;01mraise\u001b[39;00m \u001b[38;5;167;01mAttributeError\u001b[39;00m(\n",
      "\u001b[1;32m   1207\u001b[0m                     errfmt\u001b[38;5;241m.\u001b[39mformat(\u001b[38;5;28mcls\u001b[39m\u001b[38;5;241m=\u001b[39m\u001b[38;5;28mtype\u001b[39m(\u001b[38;5;28mself\u001b[39m), prop_name\u001b[38;5;241m=\u001b[39mk),\n",
      "\u001b[1;32m   1208\u001b[0m                     name\u001b[38;5;241m=\u001b[39mk)\n",
      "\u001b[1;32m   1209\u001b[0m             ret\u001b[38;5;241m.\u001b[39mappend(func(v))\n",
      "\u001b[1;32m   1210\u001b[0m \u001b[38;5;28;01mif\u001b[39;00m ret:\n",
      "\n",
      "\u001b[0;31mAttributeError\u001b[0m: Line2D.set() got an unexpected keyword argument 'title'"
     ]
    }
   ],
   "source": [
    "plt.plot(x,y,title=\"Figure: Line Plot\") # 이 코드를 수정하라"
   ]
  },
  {
   "cell_type": "markdown",
   "id": "b86c9a3b",
   "metadata": {},
   "source": [
    "`생각해볼점1` -- 무엇이 더 편리한가?"
   ]
  },
  {
   "attachments": {
    "image.png": {
     "image/png": "[encoded data removed]"
    }
   },
   "cell_type": "markdown",
   "id": "3c1210a4",
   "metadata": {},
   "source": [
    "`실습3` -- 코랩에서 `toggle gemini`를 활용하여 scatter plot을 하나 그려라.\n",
    "\n",
    "![-](attachment:image.png)"
   ]
  },
  {
   "cell_type": "markdown",
   "id": "f71b0b33",
   "metadata": {},
   "source": [
    "> 가능하면 의미있는 예제를 그려보도록 하자. 예를들면 온도와 아이스아메리카노 판매량과 같은"
   ]
  },
  {
   "cell_type": "markdown",
   "id": "213ae1f6",
   "metadata": {},
   "source": [
    "`실습4` -- 실습3에서 만든 예제를 설명하는 문서를 만들어 보도록 하자. "
   ]
  },
  {
   "cell_type": "markdown",
   "id": "2b639d30",
   "metadata": {},
   "source": [
    "`실습5` -- 머신러닝 모형을 이용하여 산점도에 적당한 추세선을 추가해보도록 하자."
   ]
  },
  {
   "cell_type": "markdown",
   "id": "abc90d74",
   "metadata": {},
   "source": [
    "`실습6` -- 머신러닝 모형을이용하여 간단한 예측을 해보도록 하자. "
   ]
  },
  {
   "cell_type": "markdown",
   "id": "2b60ffc8",
   "metadata": {},
   "source": [
    "`실습7` -- 모형과 코드를 설명하는 문서를 작성해보자. "
   ]
  },
  {
   "cell_type": "markdown",
   "id": "34e61fab",
   "metadata": {},
   "source": [
    "`생각해볼점2` -- 커서는 모델에 대한 기여는 없다. 그래도 커서는 유용한가? 커서가 혁신이라고 생각하는가?"
   ]
  },
  {
   "cell_type": "markdown",
   "id": "fe58e5ff",
   "metadata": {},
   "source": [
    "`생각해볼점3` -- 커서에 얼만큼의 돈을 지불할 수 있을까? (ChatGTP보다 더 지불할 의향이 있는가?)\n",
    "\n",
    "- <https://www.youtube.com/watch?v=-PN3xY7ZeMA>"
   ]
  },
  {
   "cell_type": "markdown",
   "id": "d78ae396",
   "metadata": {},
   "source": [
    "## `5`. Claude의 반격1 (아티팩트)"
   ]
  },
  {
   "cell_type": "markdown",
   "id": "aaf5e1ae",
   "metadata": {},
   "source": [
    "`실습1` -- 클로드에 접속하고 강의노트를 업로드하여 5개의 OX퀴즈를 만들자. "
   ]
  },
  {
   "cell_type": "markdown",
   "id": "ed8d5909",
   "metadata": {},
   "source": [
    "`실습2` -- 실습1에서 만든 OX퀴즈를 플래시카드앱으로 만들자. "
   ]
  },
  {
   "cell_type": "markdown",
   "id": "d73a26db",
   "metadata": {},
   "source": [
    "`실습3` -- 만든 앱을 배포하자. "
   ]
  },
  {
   "cell_type": "markdown",
   "id": "242afd6b",
   "metadata": {},
   "source": [
    "`실습4` -- 랜덤으로 문제를 섞는 기능을 추가해보자. "
   ]
  },
  {
   "cell_type": "markdown",
   "id": "8e4d1300",
   "metadata": {},
   "source": [
    "`실습5` -- 툴팁기능을 추가해보자. "
   ]
  },
  {
   "cell_type": "markdown",
   "id": "e49261ff",
   "metadata": {},
   "source": [
    "`실습6` -- 문제 히스토리 기능을 추가해보자. "
   ]
  },
  {
   "cell_type": "markdown",
   "id": "b826d7c5",
   "metadata": {},
   "source": [
    "## `6`. Claude의 반격2 (MCP)"
   ]
  },
  {
   "cell_type": "markdown",
   "id": "6835d249",
   "metadata": {},
   "source": [
    "> 이건 돈을 내야해서요.. 실습하긴 어렵습니다. "
   ]
  },
  {
   "cell_type": "markdown",
   "id": "f7de88a3",
   "metadata": {},
   "source": [
    "## `7`. Claude의 반격3 (clude code)"
   ]
  },
  {
   "cell_type": "markdown",
   "id": "36d14e1a",
   "metadata": {},
   "source": [
    "`실습1` -- 파이썬을 이용해 아래의 주소에 접속하여 자료를 가져오고 압축을 풀어라. (설마 안배워서 모른다고 하진 않겠죠?)"
   ]
  },
  {
   "cell_type": "markdown",
   "id": "4a961d6b",
   "metadata": {},
   "source": [
    "- <https://github.com/guebin/rda251022/blob/main/Downloads.zip>"
   ]
  },
  {
   "cell_type": "markdown",
   "id": "19a58ae1",
   "metadata": {},
   "source": [
    "`실습2` -- 제미나이cli에 접속하라."
   ]
  },
  {
   "cell_type": "markdown",
   "id": "cac3e12a",
   "metadata": {},
   "source": [
    "`실습3` -- Downloads폴더의 내용을 파악하라."
   ]
  },
  {
   "cell_type": "markdown",
   "id": "d21025bf",
   "metadata": {},
   "source": [
    "`실습4` -- AI.txt를 찾고 문항과 정답을 각각 파일별로 분리하는 파이썬 코드를 작성하라. "
   ]
  },
  {
   "cell_type": "markdown",
   "id": "de4e199f",
   "metadata": {},
   "source": [
    "`실습5` -- 제미나이cli를 이용하여 이미지 파일들의 이름을 바꿔라.\n",
    "\n",
    "- 이미지파일크기를 조사\n",
    "- 이미지파일의 생성날짜를 조사 \n",
    "- 위의 정보를 혼합하여 적절한 네이밍 규칙에 따라 이름을 바꾸라 "
   ]
  },
  {
   "cell_type": "markdown",
   "id": "9cc073f1",
   "metadata": {},
   "source": [
    "`실습6` -- 폴더 `image`를 별도로 만들고, 모든 이미지 파일을 그 폴더에 복사하는 파이썬 코드를 작성하라. "
   ]
  },
  {
   "cell_type": "markdown",
   "id": "06ce1c3a",
   "metadata": {},
   "source": [
    "`실습7` -- 22명의 학생들에 대한 출석점수, 중간고사점수, 기말고사 점수가 저장되어있는 파일을 파악하라. 그것을 바탕으로 모든 학생들의 점수를 정리한 엑셀파일 `scores.csv`를 만들어라. "
   ]
  },
  {
   "cell_type": "markdown",
   "id": "576bfae0",
   "metadata": {},
   "source": [
    "`실습8` -- 출석 20\\%, 중간고사 30\\%, 기말고사 50\\% 의 가중치를 반영하여 최종스코어를 계산하라. "
   ]
  },
  {
   "cell_type": "markdown",
   "id": "cf66021f",
   "metadata": {},
   "source": [
    "## `8`. 구글의 반격 (노트북LM)"
   ]
  },
  {
   "cell_type": "code",
   "execution_count": 69,
   "id": "a875a294",
   "metadata": {},
   "outputs": [],
   "source": [
    "pass"
   ]
  }
 ],
 "metadata": {
  "language_info": {
   "name": "python"
  }
 },
 "nbformat": 4,
 "nbformat_minor": 5
}
